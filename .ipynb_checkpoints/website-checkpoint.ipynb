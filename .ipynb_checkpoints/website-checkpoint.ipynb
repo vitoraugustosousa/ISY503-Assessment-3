{
 "cells": [
  {
   "cell_type": "code",
   "execution_count": 1,
   "metadata": {
    "scrolled": true
   },
   "outputs": [
    {
     "name": "stdout",
     "output_type": "stream",
     "text": [
      " * Serving Flask app \"__main__\" (lazy loading)\n",
      " * Environment: production\n",
      "\u001b[31m   WARNING: This is a development server. Do not use it in a production deployment.\u001b[0m\n",
      "\u001b[2m   Use a production WSGI server instead.\u001b[0m\n",
      " * Debug mode: off\n"
     ]
    },
    {
     "name": "stderr",
     "output_type": "stream",
     "text": [
      " * Running on http://127.0.0.1:8094/ (Press CTRL+C to quit)\n",
      "127.0.0.1 - - [28/Nov/2020 23:02:43] \"\u001b[37mGET / HTTP/1.1\u001b[0m\" 200 -\n",
      "127.0.0.1 - - [28/Nov/2020 23:02:49] \"\u001b[37mPOST /predict HTTP/1.1\u001b[0m\" 200 -\n",
      "127.0.0.1 - - [28/Nov/2020 23:02:53] \"\u001b[37mGET / HTTP/1.1\u001b[0m\" 200 -\n",
      "127.0.0.1 - - [28/Nov/2020 23:02:57] \"\u001b[37mPOST /predict HTTP/1.1\u001b[0m\" 200 -\n",
      "127.0.0.1 - - [28/Nov/2020 23:08:03] \"\u001b[37mGET / HTTP/1.1\u001b[0m\" 200 -\n",
      "127.0.0.1 - - [28/Nov/2020 23:08:11] \"\u001b[37mPOST /predict HTTP/1.1\u001b[0m\" 200 -\n",
      "127.0.0.1 - - [28/Nov/2020 23:08:14] \"\u001b[37mGET / HTTP/1.1\u001b[0m\" 200 -\n",
      "127.0.0.1 - - [28/Nov/2020 23:08:19] \"\u001b[37mPOST /predict HTTP/1.1\u001b[0m\" 200 -\n",
      "127.0.0.1 - - [28/Nov/2020 23:08:23] \"\u001b[37mGET / HTTP/1.1\u001b[0m\" 200 -\n",
      "127.0.0.1 - - [28/Nov/2020 23:08:34] \"\u001b[37mPOST /predict HTTP/1.1\u001b[0m\" 200 -\n",
      "127.0.0.1 - - [28/Nov/2020 23:13:17] \"\u001b[37mGET / HTTP/1.1\u001b[0m\" 200 -\n"
     ]
    }
   ],
   "source": [
    "import os\n",
    "import pandas as pd \n",
    "import numpy as np \n",
    "import flask\n",
    "import pickle\n",
    "\n",
    "from flask import Flask, render_template, request\n",
    "app=Flask(__name__,template_folder='templates')\n",
    "\n",
    "@app.route(\"/\")\n",
    "def index():\n",
    " return flask.render_template(\"index.html\")\n",
    "\n",
    "@app.route(\"/predict\",methods = [\"POST\"])\n",
    "def result():\n",
    "    sentence = request.form.get('sentence', 'default value')\n",
    "    #Replace \"request.form.get('prediction', 0) for the current process\"\n",
    "    prediction = request.form.get('prediction', 0)\n",
    "    return render_template(\"predict.html\",prediction=prediction, sentence= sentence )\n",
    "\n",
    "\n",
    "if __name__ == \"__main__\":\n",
    " app.run(debug=False,port=8094)"
   ]
  },
  {
   "cell_type": "code",
   "execution_count": null,
   "metadata": {},
   "outputs": [],
   "source": []
  }
 ],
 "metadata": {
  "kernelspec": {
   "display_name": "Python 3",
   "language": "python",
   "name": "python3"
  },
  "language_info": {
   "codemirror_mode": {
    "name": "ipython",
    "version": 3
   },
   "file_extension": ".py",
   "mimetype": "text/x-python",
   "name": "python",
   "nbconvert_exporter": "python",
   "pygments_lexer": "ipython3",
   "version": "3.8.3"
  }
 },
 "nbformat": 4,
 "nbformat_minor": 4
}
