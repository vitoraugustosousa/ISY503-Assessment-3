{
 "cells": [
  {
   "cell_type": "markdown",
   "metadata": {},
   "source": [
    "<h2> ISY503 Intelligent Systems</h2>\n",
    "<h3> Assessment 3 - Final Project</h3>\n",
    "\n",
    "Name: Vitor Sousa<br>\n",
    "Student number: 00277850T"
   ]
  },
  {
   "cell_type": "markdown",
   "metadata": {},
   "source": [
    "This notebooks is a part of the final assessment for the ISY503 subject. It describes the development of an NLP model focused in sentiment analysis of Amazon, Yelp and IMDB reviews. The objective of the model is to predict the general sentiment of a sentence as \"positive\" or \"negative\". The steps to build and train the model are described below:"
   ]
  },
  {
   "cell_type": "markdown",
   "metadata": {},
   "source": [
    "## About the dataset\n",
    "\n",
    "In this project I used a dataset containing Amazon, Yelp and IMDB reviews of products and restaurants. This dataset was originally extracted from [Kaggle](https://www.kaggle.com/marklvl/sentiment-labelled-sentences-data-set).\n",
    "\n",
    "This dataset was created for the Paper 'From Group to Individual Labels using Deep Features', Kotzias et. al,. KDD 2015\n",
    "\n",
    "The dataset includes reviews, and each review is labelled as 0 (negative) or 1 (positive).\n",
    "\n",
    "### Examples of positive reviews:\n",
    "\n",
    "*   This is hands down the best phone I've ever had.\n",
    "*   Four stars for the food & the guy in the blue shirt for his great vibe & still letting us in to eat !\n",
    "\n",
    "### Examples of negative reviews:  \n",
    "\n",
    "*   A lady at the table next to us found a live green caterpillar In her salad\n",
    "*   If you plan to use this in a car forget about it.\n"
   ]
  },
  {
   "cell_type": "code",
   "execution_count": null,
   "metadata": {},
   "outputs": [],
   "source": []
  },
  {
   "cell_type": "code",
   "execution_count": 56,
   "metadata": {},
   "outputs": [],
   "source": [
    "#Importing the required libraries\n",
    "\n",
    "import tensorflow as tf\n",
    "from tensorflow.keras.preprocessing.text import Tokenizer\n",
    "from tensorflow.keras.preprocessing.sequence import pad_sequences\n",
    "from keras.callbacks import ModelCheckpoint\n",
    "\n",
    "import numpy as np\n",
    "import pandas as pd\n",
    "\n",
    "\n",
    "#Libraries for text processing\n",
    "import nltk\n",
    "\n",
    "#import spacy\n",
    "import string"
   ]
  },
  {
   "cell_type": "code",
   "execution_count": null,
   "metadata": {},
   "outputs": [],
   "source": []
  },
  {
   "cell_type": "markdown",
   "metadata": {},
   "source": [
    "# Getting the datasets\n",
    "\n",
    "Each row in the csv file is a separate review.\n",
    "\n",
    "The csv file has 2 columns:\n",
    "\n",
    "*   **text** (the review)\n",
    "*   **sentiment** (0 or 1 indicating a negative or positive review)"
   ]
  },
  {
   "cell_type": "code",
   "execution_count": null,
   "metadata": {},
   "outputs": [],
   "source": [
    "#Importing the datasets\n",
    "\n",
    "amazon_df=pd.read_csv(\"C:/Users/Vitor Sousa/Desktop/ISY503 Assessment 3/Dataset/amazon_cells_labelled.csv\",\n",
    "                        header=None)\n",
    "\n",
    "imdb_df=pd.read_csv(\"C:/Users/Vitor Sousa/Desktop/ISY503 Assessment 3/Dataset/imdb_labelled.csv\",\n",
    "                        header=None)\n",
    "\n",
    "yelp_df=pd.read_csv(\"C:/Users/Vitor Sousa/Desktop/ISY503 Assessment 3/Dataset/yelp_labelled.csv\",\n",
    "                        header=None)"
   ]
  },
  {
   "cell_type": "code",
   "execution_count": null,
   "metadata": {},
   "outputs": [],
   "source": [
    "amazon_df.head()"
   ]
  },
  {
   "cell_type": "code",
   "execution_count": null,
   "metadata": {},
   "outputs": [],
   "source": [
    "imdb_df.head()"
   ]
  },
  {
   "cell_type": "code",
   "execution_count": null,
   "metadata": {},
   "outputs": [],
   "source": [
    "yelp_df"
   ]
  },
  {
   "cell_type": "code",
   "execution_count": null,
   "metadata": {},
   "outputs": [],
   "source": [
    "#Creating a function to prepare the datasets to be merged\n",
    "\n",
    "def prepare_df(df):\n",
    "    \n",
    "    #Filling the NaN values with void ''\n",
    "    df.fillna('', inplace = True)\n",
    "    \n",
    "    #Changing the data type to str to concatenate all columns\n",
    "    df = df.astype(dtype = 'str')\n",
    "    \n",
    "    #Creating the merged column\n",
    "    df['merged'] = ''\n",
    "    for i, column in enumerate(list(set(df.columns.tolist()) - set(['merged']))):\n",
    "        df['merged'] = df['merged'] + df[column]\n",
    "        df.drop(columns = column, inplace = True)\n",
    "    \n",
    "    #Elminating any white space on the limits of the sentences\n",
    "    df['merged'] = df['merged'].str.strip()\n",
    "    \n",
    "    #Extracting the sentiment from the sentence\n",
    "    df['sentiment'] = df['merged'].str.strip().str[-1]\n",
    "    \n",
    "    #Replacing the sentiment value in the sentence\n",
    "    df['reviews'] = df['merged'].str.replace('0', '')\n",
    "    df['reviews'] = df['reviews'].str.replace('1', '')\n",
    "    df.drop(columns = 'merged', inplace = True)\n",
    "    \n",
    "    #Reording the columns\n",
    "    df = df[['reviews', 'sentiment']]\n",
    "    \n",
    "    \n",
    "    return df"
   ]
  },
  {
   "cell_type": "code",
   "execution_count": null,
   "metadata": {},
   "outputs": [],
   "source": [
    "amazon_df = prepare_df(amazon_df)"
   ]
  },
  {
   "cell_type": "code",
   "execution_count": null,
   "metadata": {},
   "outputs": [],
   "source": [
    "imdb_df = prepare_df(imdb_df)"
   ]
  },
  {
   "cell_type": "code",
   "execution_count": null,
   "metadata": {},
   "outputs": [],
   "source": [
    "yelp_df = prepare_df(yelp_df)"
   ]
  },
  {
   "cell_type": "code",
   "execution_count": null,
   "metadata": {},
   "outputs": [],
   "source": [
    "amazon_df"
   ]
  },
  {
   "cell_type": "code",
   "execution_count": null,
   "metadata": {},
   "outputs": [],
   "source": [
    "yelp_df"
   ]
  },
  {
   "cell_type": "code",
   "execution_count": null,
   "metadata": {},
   "outputs": [],
   "source": [
    "imdb_df"
   ]
  },
  {
   "cell_type": "markdown",
   "metadata": {},
   "source": [
    "### Merging the datasets\n",
    "\n",
    "To facilitate the manipulation and develpment of the model, I am going to merge the datasets into one."
   ]
  },
  {
   "cell_type": "code",
   "execution_count": null,
   "metadata": {},
   "outputs": [],
   "source": [
    "#Merging the datasets\n",
    "\n",
    "\n",
    "reviews_df = pd.concat([amazon_df, imdb_df, yelp_df])\n",
    "reviews_df.reset_index(drop = 'True', inplace = True)"
   ]
  },
  {
   "cell_type": "code",
   "execution_count": null,
   "metadata": {},
   "outputs": [],
   "source": [
    "reviews_df"
   ]
  },
  {
   "cell_type": "markdown",
   "metadata": {},
   "source": [
    "### Cleaning the dataset"
   ]
  },
  {
   "cell_type": "markdown",
   "metadata": {},
   "source": [
    "#### Lower casing\n",
    "\n",
    "Converting the reviews to the same case format so they can be trated the same way."
   ]
  },
  {
   "cell_type": "code",
   "execution_count": null,
   "metadata": {},
   "outputs": [],
   "source": [
    "reviews_df['reviews'] = reviews_df['reviews'].str.lower()"
   ]
  },
  {
   "cell_type": "code",
   "execution_count": null,
   "metadata": {},
   "outputs": [],
   "source": [
    "reviews_df"
   ]
  },
  {
   "cell_type": "markdown",
   "metadata": {},
   "source": [
    "#### Remove Punctuations\n",
    "\n",
    "Removing the punctuation from the reviews so \"great\" and \"great!!\" can be trated the same way."
   ]
  },
  {
   "cell_type": "code",
   "execution_count": null,
   "metadata": {},
   "outputs": [],
   "source": [
    "#Create function to remove punctuation\n",
    "\n",
    "punctuations = '!\"#$%&\\()*+,-./:;<=>?@[\\\\]^_`{|}~'\n",
    "def remove_pun(review):\n",
    "    return review.translate(str.maketrans('', '', punctuations))"
   ]
  },
  {
   "cell_type": "code",
   "execution_count": null,
   "metadata": {},
   "outputs": [],
   "source": [
    "reviews_df['reviews'] = reviews_df['reviews'].apply(lambda review: remove_pun(review))"
   ]
  },
  {
   "cell_type": "code",
   "execution_count": null,
   "metadata": {},
   "outputs": [],
   "source": [
    "reviews_df"
   ]
  },
  {
   "cell_type": "markdown",
   "metadata": {},
   "source": [
    "#### Spelling Correction\n",
    "\n",
    "To correct possible spelling mistakes in the dataset, I am going to use the python package pyspellchecker."
   ]
  },
  {
   "cell_type": "code",
   "execution_count": null,
   "metadata": {},
   "outputs": [],
   "source": [
    "from spellchecker import SpellChecker\n",
    "\n",
    "spell = SpellChecker()\n",
    "def correct_spellings(review):\n",
    "    corrected_review = []\n",
    "    misspelled_words = spell.unknown(review.split())\n",
    "    for word in review.split():\n",
    "        if word in misspelled_words:\n",
    "            corrected_review.append(spell.correction(word))\n",
    "        else:\n",
    "            corrected_review.append(word)\n",
    "    return \" \".join(corrected_review)\n",
    "\n",
    "\n",
    "reviews_df[\"reviews\"] = reviews_df[\"reviews\"].apply(lambda review: correct_spellings(review))\n",
    "reviews_df"
   ]
  },
  {
   "cell_type": "markdown",
   "metadata": {},
   "source": [
    "#### Removing Stop Words\n",
    "\n",
    "Removing the most frequent words to avoid model polution"
   ]
  },
  {
   "cell_type": "code",
   "execution_count": null,
   "metadata": {},
   "outputs": [],
   "source": [
    "from collections import Counter\n",
    "cnt = Counter()\n",
    "for review in reviews_df['reviews'].values:\n",
    "    for word in review.split():\n",
    "        cnt[word] += 1\n",
    "        \n",
    "cnt.most_common(50)"
   ]
  },
  {
   "cell_type": "code",
   "execution_count": null,
   "metadata": {},
   "outputs": [],
   "source": [
    "#Creating list of words to be removes\n",
    "\n",
    "common_words = [('the', 1941), ('and', 1129), ('a', 893), ('i', 887), ('is', 758), ('to', 667), ('it', 665), ('this', 639), ('of', 622),\n",
    "                ('was', 570), ('in', 398), ('for', 336), ('that', 303), ('with', 274), ('my', 251), ('on', 219), ('you', 203), ('but', 201),\n",
    "                ('have', 183), ('are', 180), ('as', 175), ('its', 151), ('be', 145), ('had', 138), ('at', 134), ('were', 107), ('there', 106),\n",
    "                ('an', 105), ('if', 103), ('from', 103), ('they', 100)]\n"
   ]
  },
  {
   "cell_type": "code",
   "execution_count": null,
   "metadata": {},
   "outputs": [],
   "source": [
    "remove_words = set([word for (word, count) in common_words])\n",
    "def remove_common_words(review):\n",
    "    \n",
    "    return \" \".join([word for word in str(review).split() if word not in remove_words])\n",
    "\n",
    "reviews_df['reviews'] = reviews_df['reviews'].apply(lambda review: remove_common_words(review))\n",
    "reviews_df"
   ]
  },
  {
   "cell_type": "markdown",
   "metadata": {},
   "source": [
    "#### Lemmatization\n",
    "\n",
    "Applying lemmatization process in the dataset to reduce the words in the sentence into their root word (e.g. running > run). I am going to use WordNetLemmatizer from nltk library to lemmatize the senteces. In addition, I am going to use wordnet from nltk to classify the words in the sentense, making the lemmatization process more efficient.\n",
    "\n",
    "I am going to keep both versions of the reviews (lemmatized and default) to compare the efficiency of the model in both of them."
   ]
  },
  {
   "cell_type": "code",
   "execution_count": null,
   "metadata": {},
   "outputs": [],
   "source": [
    "from nltk.corpus import wordnet\n",
    "from nltk.stem import WordNetLemmatizer\n",
    "\n",
    "lemmatizer = WordNetLemmatizer()\n",
    "wordnet_map = {\"N\":wordnet.NOUN, \"V\":wordnet.VERB, \"J\":wordnet.ADJ, \"R\":wordnet.ADV}\n",
    "def lemmatize_words(review):\n",
    "    pos_tagged_review = nltk.pos_tag(review.split())\n",
    "    return \" \".join([lemmatizer.lemmatize(word, wordnet_map.get(pos[0], wordnet.NOUN)) for word, pos in pos_tagged_review])\n",
    "\n",
    "reviews_df[\"reviews_lemmatized\"] = reviews_df[\"reviews\"].apply(lambda review: lemmatize_words(review))\n",
    "reviews_df"
   ]
  },
  {
   "cell_type": "code",
   "execution_count": null,
   "metadata": {},
   "outputs": [],
   "source": [
    "#Changing the order of the columns\n",
    "\n",
    "reviews_df = reviews_df[['reviews', 'reviews_lemmatized', 'sentiment']]"
   ]
  },
  {
   "cell_type": "code",
   "execution_count": null,
   "metadata": {},
   "outputs": [],
   "source": [
    "#Converting the sentiment to numeric data\n",
    "\n",
    "reviews_df['sentiment'] = reviews_df['sentiment'].astype(dtype = 'int64')"
   ]
  },
  {
   "cell_type": "code",
   "execution_count": null,
   "metadata": {},
   "outputs": [],
   "source": [
    "#Checking for missing values\n",
    "\n",
    "reviews_df.isna().sum()"
   ]
  },
  {
   "cell_type": "code",
   "execution_count": null,
   "metadata": {},
   "outputs": [],
   "source": [
    "#Checking the type of data\n",
    "\n",
    "reviews_df.info()"
   ]
  },
  {
   "cell_type": "code",
   "execution_count": null,
   "metadata": {},
   "outputs": [],
   "source": [
    "#Randomizing the data o ensure no effect on the performance of the model\n",
    "\n",
    "reviews_df = reviews_df.reindex(np.random.permutation(reviews_df.index))\n",
    "reviews_df"
   ]
  },
  {
   "cell_type": "code",
   "execution_count": null,
   "metadata": {},
   "outputs": [],
   "source": [
    "reviews_df"
   ]
  },
  {
   "cell_type": "code",
   "execution_count": null,
   "metadata": {},
   "outputs": [],
   "source": []
  },
  {
   "cell_type": "code",
   "execution_count": null,
   "metadata": {},
   "outputs": [],
   "source": []
  },
  {
   "cell_type": "code",
   "execution_count": null,
   "metadata": {},
   "outputs": [],
   "source": []
  },
  {
   "cell_type": "code",
   "execution_count": null,
   "metadata": {},
   "outputs": [],
   "source": []
  },
  {
   "cell_type": "code",
   "execution_count": null,
   "metadata": {},
   "outputs": [],
   "source": []
  },
  {
   "cell_type": "code",
   "execution_count": null,
   "metadata": {},
   "outputs": [],
   "source": []
  },
  {
   "cell_type": "code",
   "execution_count": 2,
   "metadata": {},
   "outputs": [
    {
     "data": {
      "text/html": [
       "<div>\n",
       "<style scoped>\n",
       "    .dataframe tbody tr th:only-of-type {\n",
       "        vertical-align: middle;\n",
       "    }\n",
       "\n",
       "    .dataframe tbody tr th {\n",
       "        vertical-align: top;\n",
       "    }\n",
       "\n",
       "    .dataframe thead th {\n",
       "        text-align: right;\n",
       "    }\n",
       "</style>\n",
       "<table border=\"1\" class=\"dataframe\">\n",
       "  <thead>\n",
       "    <tr style=\"text-align: right;\">\n",
       "      <th></th>\n",
       "      <th>Unnamed: 0</th>\n",
       "      <th>reviews</th>\n",
       "      <th>sentiment</th>\n",
       "    </tr>\n",
       "  </thead>\n",
       "  <tbody>\n",
       "    <tr>\n",
       "      <th>0</th>\n",
       "      <td>251</td>\n",
       "      <td>o gosh best phone ever</td>\n",
       "      <td>1</td>\n",
       "    </tr>\n",
       "    <tr>\n",
       "      <th>1</th>\n",
       "      <td>1312</td>\n",
       "      <td>hate disagree fellow helpers husband so disapp...</td>\n",
       "      <td>0</td>\n",
       "    </tr>\n",
       "    <tr>\n",
       "      <th>2</th>\n",
       "      <td>1731</td>\n",
       "      <td>service quick even go orders just like we like</td>\n",
       "      <td>1</td>\n",
       "    </tr>\n",
       "    <tr>\n",
       "      <th>3</th>\n",
       "      <td>407</td>\n",
       "      <td>works great</td>\n",
       "      <td>1</td>\n",
       "    </tr>\n",
       "    <tr>\n",
       "      <th>4</th>\n",
       "      <td>1139</td>\n",
       "      <td>will go back next trip out</td>\n",
       "      <td>1</td>\n",
       "    </tr>\n",
       "    <tr>\n",
       "      <th>...</th>\n",
       "      <td>...</td>\n",
       "      <td>...</td>\n",
       "      <td>...</td>\n",
       "    </tr>\n",
       "    <tr>\n",
       "      <th>2018</th>\n",
       "      <td>316</td>\n",
       "      <td>we gotten lot compliments</td>\n",
       "      <td>1</td>\n",
       "    </tr>\n",
       "    <tr>\n",
       "      <th>2019</th>\n",
       "      <td>2013</td>\n",
       "      <td>refried beans came meal dried out crusty food ...</td>\n",
       "      <td>0</td>\n",
       "    </tr>\n",
       "    <tr>\n",
       "      <th>2020</th>\n",
       "      <td>1623</td>\n",
       "      <td>miss wish one philadelphia</td>\n",
       "      <td>1</td>\n",
       "    </tr>\n",
       "    <tr>\n",
       "      <th>2021</th>\n",
       "      <td>1970</td>\n",
       "      <td>very disappointed</td>\n",
       "      <td>0</td>\n",
       "    </tr>\n",
       "    <tr>\n",
       "      <th>2022</th>\n",
       "      <td>1389</td>\n",
       "      <td>wife lobster bisque soup which lukewarm</td>\n",
       "      <td>0</td>\n",
       "    </tr>\n",
       "  </tbody>\n",
       "</table>\n",
       "<p>2023 rows × 3 columns</p>\n",
       "</div>"
      ],
      "text/plain": [
       "      Unnamed: 0                                            reviews  sentiment\n",
       "0            251                             o gosh best phone ever          1\n",
       "1           1312  hate disagree fellow helpers husband so disapp...          0\n",
       "2           1731     service quick even go orders just like we like          1\n",
       "3            407                                        works great          1\n",
       "4           1139                         will go back next trip out          1\n",
       "...          ...                                                ...        ...\n",
       "2018         316                          we gotten lot compliments          1\n",
       "2019        2013  refried beans came meal dried out crusty food ...          0\n",
       "2020        1623                         miss wish one philadelphia          1\n",
       "2021        1970                                  very disappointed          0\n",
       "2022        1389            wife lobster bisque soup which lukewarm          0\n",
       "\n",
       "[2023 rows x 3 columns]"
      ]
     },
     "execution_count": 2,
     "metadata": {},
     "output_type": "execute_result"
    }
   ],
   "source": [
    "#importing the dataset\n",
    "\n",
    "reviews_df = pd.read_csv('reviews_df.csv')\n",
    "reviews_df"
   ]
  },
  {
   "cell_type": "markdown",
   "metadata": {},
   "source": [
    "### Preparing the dataset\n",
    "\n",
    "Extracting the reviews and sentiment from the dataset, and spliting it into train/test sets"
   ]
  },
  {
   "cell_type": "code",
   "execution_count": 3,
   "metadata": {},
   "outputs": [],
   "source": [
    "sentences = reviews_df['reviews'].tolist()\n",
    "#l_sentences = reviews_df['reviews_lemmatized'].tolist()\n",
    "\n",
    "labels = reviews_df['sentiment'].tolist()\n",
    "\n",
    "# Separate out the sentences and labels into training and test sets\n",
    "training_size = int(len(sentences) * 0.8)\n",
    "\n",
    "training_sentences = sentences[0:training_size]\n",
    "testing_sentences = sentences[training_size:]\n",
    "\n",
    "#Creating test dataset with lemmatized reviews\n",
    "#training_l_sentences = l_sentences[0:training_size]\n",
    "#testing_l_sentences = l_sentences[training_size:]\n",
    "\n",
    "training_labels = labels[0:training_size]\n",
    "testing_labels = labels[training_size:]\n",
    "\n",
    "# Make labels into numpy arrays for use with the network later\n",
    "training_labels_final = np.array(training_labels)\n",
    "testing_labels_final = np.array(testing_labels)"
   ]
  },
  {
   "cell_type": "markdown",
   "metadata": {},
   "source": [
    "### Tokenizing the text\n",
    "\n",
    "Creating the tokenizer, specify the OOV (Out of vocabulary) token, tokenize the text, then inspect the word index."
   ]
  },
  {
   "cell_type": "code",
   "execution_count": 4,
   "metadata": {},
   "outputs": [],
   "source": [
    "#Defining the parameters for the tokenization process\n",
    "vocab_size = 3000\n",
    "embedding_dim = 16\n",
    "max_length = 50\n",
    "trunc_type='post'\n",
    "padding_type='post'\n",
    "oov_tok = \"<OOV>\"\n",
    "\n",
    "\n",
    "tokenizer = Tokenizer(num_words = vocab_size, oov_token=oov_tok)\n",
    "tokenizer.fit_on_texts(training_sentences)\n",
    "word_index = tokenizer.word_index"
   ]
  },
  {
   "cell_type": "markdown",
   "metadata": {},
   "source": [
    "### Generating the sequences for the reviews\n",
    "\n",
    "Creating a sequence for each review and setting the max length to 50. Adding the padding zeros at the end of the review for reviews that are not as long as the longest one."
   ]
  },
  {
   "cell_type": "code",
   "execution_count": 5,
   "metadata": {},
   "outputs": [],
   "source": [
    "training_sequences = tokenizer.texts_to_sequences(training_sentences)\n",
    "training_padded = pad_sequences(training_sequences,maxlen=max_length, padding=padding_type, \n",
    "                       truncating=trunc_type)\n",
    "\n",
    "testing_sequences = tokenizer.texts_to_sequences(testing_sentences)\n",
    "testing_padded = pad_sequences(testing_sequences,maxlen=max_length, \n",
    "                               padding=padding_type, truncating=trunc_type)"
   ]
  },
  {
   "cell_type": "markdown",
   "metadata": {},
   "source": [
    "### Review the sequence\n",
    "\n",
    "Checking the padded sequences to ensure everything above worked appropriately."
   ]
  },
  {
   "cell_type": "code",
   "execution_count": 6,
   "metadata": {},
   "outputs": [
    {
     "name": "stdout",
     "output_type": "stream",
     "text": [
      "hate disagree fellow helpers husband so disappointed place ? ? ? ? ? ? ? ? ? ? ? ? ? ? ? ? ? ? ? ? ? ? ? ? ? ? ? ? ? ? ? ? ? ? ? ? ? ? ? ? ? ?\n",
      "hate disagree fellow helpers husband so disappointed place\n"
     ]
    }
   ],
   "source": [
    "reverse_word_index = dict([(value, key) for (key, value) in word_index.items()])\n",
    "\n",
    "def decode_review(text):\n",
    "    return ' '.join([reverse_word_index.get(i, '?') for i in text])\n",
    "\n",
    "print(decode_review(training_padded[1]))\n",
    "print(training_sentences[1])"
   ]
  },
  {
   "cell_type": "markdown",
   "metadata": {},
   "source": [
    "### Training the model with Embeddings\n"
   ]
  },
  {
   "cell_type": "code",
   "execution_count": 7,
   "metadata": {},
   "outputs": [
    {
     "name": "stdout",
     "output_type": "stream",
     "text": [
      "Model: \"sequential\"\n",
      "_________________________________________________________________\n",
      "Layer (type)                 Output Shape              Param #   \n",
      "=================================================================\n",
      "embedding (Embedding)        (None, 50, 16)            48000     \n",
      "_________________________________________________________________\n",
      "flatten (Flatten)            (None, 800)               0         \n",
      "_________________________________________________________________\n",
      "dense (Dense)                (None, 6)                 4806      \n",
      "_________________________________________________________________\n",
      "dense_1 (Dense)              (None, 1)                 7         \n",
      "=================================================================\n",
      "Total params: 52,813\n",
      "Trainable params: 52,813\n",
      "Non-trainable params: 0\n",
      "_________________________________________________________________\n"
     ]
    }
   ],
   "source": [
    "# Build a basic sentiment network with an embedding layer\n",
    "\n",
    "model = tf.keras.Sequential([\n",
    "    tf.keras.layers.Embedding(vocab_size, embedding_dim, input_length=max_length),\n",
    "    tf.keras.layers.Flatten(),\n",
    "    tf.keras.layers.Dense(6, activation='relu'),\n",
    "    tf.keras.layers.Dense(1, activation = 'sigmoid')\n",
    "])\n",
    "model.compile(loss=tf.keras.losses.BinaryCrossentropy(from_logits=True),optimizer='adam',metrics=['accuracy'])\n",
    "model.summary()"
   ]
  },
  {
   "cell_type": "code",
   "execution_count": 8,
   "metadata": {},
   "outputs": [
    {
     "name": "stdout",
     "output_type": "stream",
     "text": [
      "Epoch 1/30\n",
      "51/51 [==============================] - 0s 4ms/step - loss: 0.7070 - accuracy: 0.5049 - val_loss: 0.6939 - val_accuracy: 0.4988\n",
      "Epoch 2/30\n",
      "51/51 [==============================] - 0s 1ms/step - loss: 0.6939 - accuracy: 0.5049 - val_loss: 0.6930 - val_accuracy: 0.4988\n",
      "Epoch 3/30\n",
      "51/51 [==============================] - 0s 1ms/step - loss: 0.6931 - accuracy: 0.5049 - val_loss: 0.6926 - val_accuracy: 0.4988\n",
      "Epoch 4/30\n",
      "51/51 [==============================] - 0s 1ms/step - loss: 0.6902 - accuracy: 0.5049 - val_loss: 0.6870 - val_accuracy: 0.4988\n",
      "Epoch 5/30\n",
      "51/51 [==============================] - 0s 2ms/step - loss: 0.6623 - accuracy: 0.5049 - val_loss: 0.6606 - val_accuracy: 0.4988\n",
      "Epoch 6/30\n",
      "51/51 [==============================] - 0s 1ms/step - loss: 0.6253 - accuracy: 0.7046 - val_loss: 0.6452 - val_accuracy: 0.6938\n",
      "Epoch 7/30\n",
      "51/51 [==============================] - 0s 1ms/step - loss: 0.5899 - accuracy: 0.9017 - val_loss: 0.6262 - val_accuracy: 0.7901\n",
      "Epoch 8/30\n",
      "51/51 [==============================] - 0s 2ms/step - loss: 0.5488 - accuracy: 0.9580 - val_loss: 0.6098 - val_accuracy: 0.8049\n",
      "Epoch 9/30\n",
      "51/51 [==============================] - 0s 2ms/step - loss: 0.5312 - accuracy: 0.9747 - val_loss: 0.6047 - val_accuracy: 0.8148\n",
      "Epoch 10/30\n",
      "51/51 [==============================] - 0s 2ms/step - loss: 0.5227 - accuracy: 0.9845 - val_loss: 0.6026 - val_accuracy: 0.8099\n",
      "Epoch 11/30\n",
      "51/51 [==============================] - 0s 1ms/step - loss: 0.5181 - accuracy: 0.9876 - val_loss: 0.6016 - val_accuracy: 0.8123\n",
      "Epoch 12/30\n",
      "51/51 [==============================] - 0s 2ms/step - loss: 0.5150 - accuracy: 0.9901 - val_loss: 0.6026 - val_accuracy: 0.8123\n",
      "Epoch 13/30\n",
      "51/51 [==============================] - 0s 2ms/step - loss: 0.5132 - accuracy: 0.9913 - val_loss: 0.5992 - val_accuracy: 0.8173\n",
      "Epoch 14/30\n",
      "51/51 [==============================] - 0s 2ms/step - loss: 0.5118 - accuracy: 0.9932 - val_loss: 0.5995 - val_accuracy: 0.8123\n",
      "Epoch 15/30\n",
      "51/51 [==============================] - 0s 2ms/step - loss: 0.5108 - accuracy: 0.9938 - val_loss: 0.6013 - val_accuracy: 0.8099\n",
      "Epoch 16/30\n",
      "51/51 [==============================] - 0s 2ms/step - loss: 0.5101 - accuracy: 0.9932 - val_loss: 0.5983 - val_accuracy: 0.8099\n",
      "Epoch 17/30\n",
      "51/51 [==============================] - 0s 1ms/step - loss: 0.5095 - accuracy: 0.9944 - val_loss: 0.5958 - val_accuracy: 0.8123\n",
      "Epoch 18/30\n",
      "51/51 [==============================] - 0s 1ms/step - loss: 0.5089 - accuracy: 0.9944 - val_loss: 0.5967 - val_accuracy: 0.8148\n",
      "Epoch 19/30\n",
      "51/51 [==============================] - 0s 2ms/step - loss: 0.5084 - accuracy: 0.9957 - val_loss: 0.5969 - val_accuracy: 0.8173\n",
      "Epoch 20/30\n",
      "51/51 [==============================] - 0s 2ms/step - loss: 0.5080 - accuracy: 0.9963 - val_loss: 0.5959 - val_accuracy: 0.8198\n",
      "Epoch 21/30\n",
      "51/51 [==============================] - 0s 1ms/step - loss: 0.5078 - accuracy: 0.9963 - val_loss: 0.5959 - val_accuracy: 0.8222\n",
      "Epoch 22/30\n",
      "51/51 [==============================] - 0s 2ms/step - loss: 0.5075 - accuracy: 0.9969 - val_loss: 0.5985 - val_accuracy: 0.8099\n",
      "Epoch 23/30\n",
      "51/51 [==============================] - 0s 1ms/step - loss: 0.5072 - accuracy: 0.9975 - val_loss: 0.5977 - val_accuracy: 0.8074\n",
      "Epoch 24/30\n",
      "51/51 [==============================] - 0s 2ms/step - loss: 0.5071 - accuracy: 0.9975 - val_loss: 0.5963 - val_accuracy: 0.8173\n",
      "Epoch 25/30\n",
      "51/51 [==============================] - 0s 2ms/step - loss: 0.5069 - accuracy: 0.9975 - val_loss: 0.5962 - val_accuracy: 0.8198\n",
      "Epoch 26/30\n",
      "51/51 [==============================] - 0s 2ms/step - loss: 0.5068 - accuracy: 0.9975 - val_loss: 0.5988 - val_accuracy: 0.8099\n",
      "Epoch 27/30\n",
      "51/51 [==============================] - 0s 2ms/step - loss: 0.5067 - accuracy: 0.9975 - val_loss: 0.5954 - val_accuracy: 0.8222\n",
      "Epoch 28/30\n",
      "51/51 [==============================] - 0s 2ms/step - loss: 0.5067 - accuracy: 0.9975 - val_loss: 0.5949 - val_accuracy: 0.8173\n",
      "Epoch 29/30\n",
      "51/51 [==============================] - 0s 1ms/step - loss: 0.5066 - accuracy: 0.9975 - val_loss: 0.5964 - val_accuracy: 0.8173\n",
      "Epoch 30/30\n",
      "51/51 [==============================] - 0s 2ms/step - loss: 0.5066 - accuracy: 0.9975 - val_loss: 0.5967 - val_accuracy: 0.8148\n"
     ]
    }
   ],
   "source": [
    "num_epochs = 30\n",
    "history = model.fit(training_padded, training_labels_final, epochs=num_epochs, validation_data=(testing_padded, testing_labels_final))"
   ]
  },
  {
   "cell_type": "markdown",
   "metadata": {},
   "source": [
    "### Building and testing the model with the lemmatized sentences"
   ]
  },
  {
   "cell_type": "code",
   "execution_count": 9,
   "metadata": {},
   "outputs": [
    {
     "ename": "NameError",
     "evalue": "name 'training_l_sentences' is not defined",
     "output_type": "error",
     "traceback": [
      "\u001b[1;31m---------------------------------------------------------------------------\u001b[0m",
      "\u001b[1;31mNameError\u001b[0m                                 Traceback (most recent call last)",
      "\u001b[1;32m<ipython-input-9-b1da7ed597e7>\u001b[0m in \u001b[0;36m<module>\u001b[1;34m\u001b[0m\n\u001b[0;32m      2\u001b[0m \u001b[1;33m\u001b[0m\u001b[0m\n\u001b[0;32m      3\u001b[0m \u001b[0ml_tokenizer\u001b[0m \u001b[1;33m=\u001b[0m \u001b[0mTokenizer\u001b[0m\u001b[1;33m(\u001b[0m\u001b[0mnum_words\u001b[0m \u001b[1;33m=\u001b[0m \u001b[0mvocab_size\u001b[0m\u001b[1;33m,\u001b[0m \u001b[0moov_token\u001b[0m\u001b[1;33m=\u001b[0m\u001b[0moov_tok\u001b[0m\u001b[1;33m)\u001b[0m\u001b[1;33m\u001b[0m\u001b[1;33m\u001b[0m\u001b[0m\n\u001b[1;32m----> 4\u001b[1;33m \u001b[0ml_tokenizer\u001b[0m\u001b[1;33m.\u001b[0m\u001b[0mfit_on_texts\u001b[0m\u001b[1;33m(\u001b[0m\u001b[0mtraining_l_sentences\u001b[0m\u001b[1;33m)\u001b[0m\u001b[1;33m\u001b[0m\u001b[1;33m\u001b[0m\u001b[0m\n\u001b[0m\u001b[0;32m      5\u001b[0m \u001b[0ml_word_index\u001b[0m \u001b[1;33m=\u001b[0m \u001b[0ml_tokenizer\u001b[0m\u001b[1;33m.\u001b[0m\u001b[0mword_index\u001b[0m\u001b[1;33m\u001b[0m\u001b[1;33m\u001b[0m\u001b[0m\n\u001b[0;32m      6\u001b[0m \u001b[1;33m\u001b[0m\u001b[0m\n",
      "\u001b[1;31mNameError\u001b[0m: name 'training_l_sentences' is not defined"
     ]
    }
   ],
   "source": [
    "#Tokenization\n",
    "\n",
    "l_tokenizer = Tokenizer(num_words = vocab_size, oov_token=oov_tok)\n",
    "l_tokenizer.fit_on_texts(training_l_sentences)\n",
    "l_word_index = l_tokenizer.word_index\n",
    "\n",
    "#Sequences\n",
    "training_l_sequences = l_tokenizer.texts_to_sequences(training_l_sentences)\n",
    "training_l_padded = pad_sequences(l_sequences,maxlen=max_length, padding=padding_type, \n",
    "                       truncating=trunc_type)\n",
    "\n",
    "testing_l_sequences = l_tokenizer.texts_to_sequences(testing_l_sentences)\n",
    "testing_l_padded = pad_sequences(testing_l_sequences,maxlen=max_length, \n",
    "                               padding=padding_type, truncating=trunc_type)"
   ]
  },
  {
   "cell_type": "code",
   "execution_count": null,
   "metadata": {},
   "outputs": [],
   "source": [
    "# Building a basic sentiment network with an embedding layer\n",
    "\n",
    "model_lemmatized = tf.keras.Sequential([\n",
    "    tf.keras.layers.Embedding(vocab_size, embedding_dim, input_length=max_length),\n",
    "    tf.keras.layers.Flatten(),\n",
    "    tf.keras.layers.Dense(6, activation='relu'),\n",
    "    tf.keras.layers.Dense(1, activation = 'sigmoid')\n",
    "])\n",
    "model_lemmatized.compile(loss=tf.keras.losses.BinaryCrossentropy(from_logits=True),optimizer='adam',metrics=['accuracy'])\n",
    "model_lemmatized.summary()"
   ]
  },
  {
   "cell_type": "code",
   "execution_count": null,
   "metadata": {},
   "outputs": [],
   "source": [
    "num_epochs = 30\n",
    "history_l = model_lemmatized.fit(l_padded, training_labels_final, epochs=num_epochs, validation_data=(testing_l_padded, testing_labels_final))"
   ]
  },
  {
   "cell_type": "markdown",
   "metadata": {},
   "source": [
    "### Conclusion\n",
    "\n",
    "Since the Lemmatization process does not significantly improve the performance of the model, I will remove the lemmatized reviews from the dataset and proceed witht the default reviews."
   ]
  },
  {
   "cell_type": "code",
   "execution_count": null,
   "metadata": {},
   "outputs": [],
   "source": [
    "#Dropping lemmatized reviews column\n",
    "\n",
    "reviews_df.drop(columns = 'reviews_lemmatized', inplace = True)\n",
    "reviews_df"
   ]
  },
  {
   "cell_type": "code",
   "execution_count": null,
   "metadata": {},
   "outputs": [],
   "source": [
    "#Saving the dataset in the folder\n",
    "\n",
    "reviews_df.to_csv('reviews_df.csv')"
   ]
  },
  {
   "cell_type": "code",
   "execution_count": null,
   "metadata": {},
   "outputs": [],
   "source": []
  },
  {
   "cell_type": "markdown",
   "metadata": {},
   "source": [
    "### Predicting Sentiment in New Reviews\n",
    "\n",
    "After trained the network, I will check how the model can predict sentiment in new reviews the network has never seen before."
   ]
  },
  {
   "cell_type": "code",
   "execution_count": 10,
   "metadata": {},
   "outputs": [],
   "source": [
    "#Function to predict example reviews\n",
    "def predict_review(model, reviews):\n",
    "    \n",
    "    # Create the sequences\n",
    "    padding_type='post'\n",
    "    sample_sequences = tokenizer.texts_to_sequences(reviews)\n",
    "    reviews_padded = pad_sequences(sample_sequences, padding=padding_type, maxlen=max_length)           \n",
    "             \n",
    "    classes = model.predict(reviews_padded)\n",
    "\n",
    "    for x in range(len(reviews_padded)):\n",
    "        print(reviews[x])\n",
    "        print(classes[x])\n",
    "        print('\\n')"
   ]
  },
  {
   "cell_type": "code",
   "execution_count": 11,
   "metadata": {},
   "outputs": [],
   "source": [
    "example_reviews = ['I love this phone', 'I hate spaghetti', \n",
    "                    'Everything was cold',\n",
    "                    'Everything was hot exactly as I wanted', \n",
    "                    'Everything was green', \n",
    "                    'the host seated us immediately',\n",
    "                    'they gave us free chocolate cake', \n",
    "                    'not sure about the wilted flowers on the table',\n",
    "                    'only works when I stand on tippy toes', \n",
    "                    'does not work when I stand on my head']"
   ]
  },
  {
   "cell_type": "code",
   "execution_count": 12,
   "metadata": {},
   "outputs": [
    {
     "name": "stdout",
     "output_type": "stream",
     "text": [
      "I love this phone\n",
      "[0.99926543]\n",
      "\n",
      "\n",
      "I hate spaghetti\n",
      "[0.00285408]\n",
      "\n",
      "\n",
      "Everything was cold\n",
      "[0.581012]\n",
      "\n",
      "\n",
      "Everything was hot exactly as I wanted\n",
      "[0.9742067]\n",
      "\n",
      "\n",
      "Everything was green\n",
      "[0.804496]\n",
      "\n",
      "\n",
      "the host seated us immediately\n",
      "[0.00883543]\n",
      "\n",
      "\n",
      "they gave us free chocolate cake\n",
      "[0.99814296]\n",
      "\n",
      "\n",
      "not sure about the wilted flowers on the table\n",
      "[6.023982e-06]\n",
      "\n",
      "\n",
      "only works when I stand on tippy toes\n",
      "[0.99418604]\n",
      "\n",
      "\n",
      "does not work when I stand on my head\n",
      "[2.6531861e-06]\n",
      "\n",
      "\n"
     ]
    }
   ],
   "source": [
    "predict_review(model, example_reviews)"
   ]
  },
  {
   "cell_type": "markdown",
   "metadata": {},
   "source": [
    "### Visualizing the Training Graph\n",
    "\n",
    "Visualizing the training graph for the model."
   ]
  },
  {
   "cell_type": "code",
   "execution_count": 13,
   "metadata": {},
   "outputs": [
    {
     "data": {
      "image/png": "[encoded data removed]",
      "text/plain": [
       "<Figure size 432x288 with 1 Axes>"
      ]
     },
     "metadata": {
      "needs_background": "light"
     },
     "output_type": "display_data"
    },
    {
     "data": {
      "image/png": "[encoded data removed]",
      "text/plain": [
       "<Figure size 432x288 with 1 Axes>"
      ]
     },
     "metadata": {
      "needs_background": "light"
     },
     "output_type": "display_data"
    }
   ],
   "source": [
    "import matplotlib.pyplot as plt\n",
    "\n",
    "\n",
    "def plot_graphs(history, string):\n",
    "    plt.plot(history.history[string])\n",
    "    plt.plot(history.history['val_'+string])\n",
    "    plt.xlabel(\"Epochs\")\n",
    "    plt.ylabel(string)\n",
    "    plt.legend([string, 'val_'+string])\n",
    "    plt.show()\n",
    "    \n",
    "plot_graphs(history, \"accuracy\")\n",
    "plot_graphs(history, \"loss\")\n"
   ]
  },
  {
   "cell_type": "markdown",
   "metadata": {},
   "source": [
    "### Trying different models\n",
    "\n",
    "Now that I finished to prepare the dataset and test the initial model, I am going to build several different models to see each one performs better in the dataset.\n",
    "\n",
    "The layers to be tested in the model are:\n",
    "*   Embeddings and a Bidirectional LSTM layer\n",
    "*   Embeddings and two Bidirectional LSTM layers\n",
    "*   Embeddings and Convulotional Layer\n",
    "*   Embeddings and Gated Recorrent Units Layer\n",
    "\n",
    "\n",
    "To make it easier to build and evaluate the different models, I am going to create some functions."
   ]
  },
  {
   "cell_type": "code",
   "execution_count": 53,
   "metadata": {},
   "outputs": [],
   "source": [
    "#Function to fit the reviews in the model\n",
    "def fit_model(model, sentences) :\n",
    "    model.summary()\n",
    "    history = model.fit(training_padded, training_labels_final, epochs=num_epochs, \n",
    "                      validation_data=(testing_padded, testing_labels_final), callbacks = [checkpoint1])\n",
    "    \n",
    "    return history\n",
    "\n",
    "#Function to plot the charts\n",
    "def plot_results(history):\n",
    "    plot_graphs(history, \"accuracy\")\n",
    "    plot_graphs(history, \"loss\")\n",
    "\n",
    "def evaluate_model(model, sentences):\n",
    "    history = fit_model(model, sentences)\n",
    "    plot_results(history)\n",
    "    predict_review(model, sentences)"
   ]
  },
  {
   "cell_type": "code",
   "execution_count": 54,
   "metadata": {},
   "outputs": [
    {
     "data": {
      "text/html": [
       "<div>\n",
       "<style scoped>\n",
       "    .dataframe tbody tr th:only-of-type {\n",
       "        vertical-align: middle;\n",
       "    }\n",
       "\n",
       "    .dataframe tbody tr th {\n",
       "        vertical-align: top;\n",
       "    }\n",
       "\n",
       "    .dataframe thead th {\n",
       "        text-align: right;\n",
       "    }\n",
       "</style>\n",
       "<table border=\"1\" class=\"dataframe\">\n",
       "  <thead>\n",
       "    <tr style=\"text-align: right;\">\n",
       "      <th></th>\n",
       "      <th>Unnamed: 0</th>\n",
       "      <th>reviews</th>\n",
       "      <th>sentiment</th>\n",
       "    </tr>\n",
       "  </thead>\n",
       "  <tbody>\n",
       "    <tr>\n",
       "      <th>0</th>\n",
       "      <td>251</td>\n",
       "      <td>o gosh best phone ever</td>\n",
       "      <td>1</td>\n",
       "    </tr>\n",
       "    <tr>\n",
       "      <th>1</th>\n",
       "      <td>1312</td>\n",
       "      <td>hate disagree fellow helpers husband so disapp...</td>\n",
       "      <td>0</td>\n",
       "    </tr>\n",
       "    <tr>\n",
       "      <th>2</th>\n",
       "      <td>1731</td>\n",
       "      <td>service quick even go orders just like we like</td>\n",
       "      <td>1</td>\n",
       "    </tr>\n",
       "    <tr>\n",
       "      <th>3</th>\n",
       "      <td>407</td>\n",
       "      <td>works great</td>\n",
       "      <td>1</td>\n",
       "    </tr>\n",
       "    <tr>\n",
       "      <th>4</th>\n",
       "      <td>1139</td>\n",
       "      <td>will go back next trip out</td>\n",
       "      <td>1</td>\n",
       "    </tr>\n",
       "  </tbody>\n",
       "</table>\n",
       "</div>"
      ],
      "text/plain": [
       "   Unnamed: 0                                            reviews  sentiment\n",
       "0         251                             o gosh best phone ever          1\n",
       "1        1312  hate disagree fellow helpers husband so disapp...          0\n",
       "2        1731     service quick even go orders just like we like          1\n",
       "3         407                                        works great          1\n",
       "4        1139                         will go back next trip out          1"
      ]
     },
     "execution_count": 54,
     "metadata": {},
     "output_type": "execute_result"
    }
   ],
   "source": [
    "#Checking the dataset\n",
    "\n",
    "reviews_df.head(5)"
   ]
  },
  {
   "cell_type": "markdown",
   "metadata": {},
   "source": [
    "#### Parameters and features preparation\n",
    "\n",
    "The paramentes to be used in the models are listed below:"
   ]
  },
  {
   "cell_type": "code",
   "execution_count": 15,
   "metadata": {},
   "outputs": [],
   "source": [
    "vocab_size = 3000\n",
    "embedding_dim = 64\n",
    "max_length = 50\n",
    "trunc_type='post'\n",
    "padding_type='post'\n",
    "oov_tok = \"<OOV>\""
   ]
  },
  {
   "cell_type": "markdown",
   "metadata": {},
   "source": [
    "#### Embeddings and a Bidirectional Long Short-Term Memory(LSTM) layer"
   ]
  },
  {
   "cell_type": "code",
   "execution_count": 16,
   "metadata": {},
   "outputs": [
    {
     "name": "stdout",
     "output_type": "stream",
     "text": [
      "Model: \"sequential_1\"\n",
      "_________________________________________________________________\n",
      "Layer (type)                 Output Shape              Param #   \n",
      "=================================================================\n",
      "embedding_1 (Embedding)      (None, 50, 64)            192000    \n",
      "_________________________________________________________________\n",
      "bidirectional (Bidirectional (None, 128)               66048     \n",
      "_________________________________________________________________\n",
      "dense_2 (Dense)              (None, 6)                 774       \n",
      "_________________________________________________________________\n",
      "dense_3 (Dense)              (None, 1)                 7         \n",
      "=================================================================\n",
      "Total params: 258,829\n",
      "Trainable params: 258,829\n",
      "Non-trainable params: 0\n",
      "_________________________________________________________________\n",
      "Epoch 1/30\n",
      "51/51 [==============================] - 2s 45ms/step - loss: 0.7012 - accuracy: 0.5043 - val_loss: 0.6931 - val_accuracy: 0.4988\n",
      "Epoch 2/30\n",
      "51/51 [==============================] - 1s 27ms/step - loss: 0.6931 - accuracy: 0.5049 - val_loss: 0.6931 - val_accuracy: 0.4988\n",
      "Epoch 3/30\n",
      "51/51 [==============================] - 1s 27ms/step - loss: 0.6931 - accuracy: 0.5049 - val_loss: 0.6931 - val_accuracy: 0.4988\n",
      "Epoch 4/30\n",
      "51/51 [==============================] - 1s 26ms/step - loss: 0.6932 - accuracy: 0.5049 - val_loss: 0.6931 - val_accuracy: 0.4988\n",
      "Epoch 5/30\n",
      "51/51 [==============================] - 1s 28ms/step - loss: 0.6931 - accuracy: 0.5049 - val_loss: 0.6931 - val_accuracy: 0.4988\n",
      "Epoch 6/30\n",
      "51/51 [==============================] - 1s 27ms/step - loss: 0.6931 - accuracy: 0.5049 - val_loss: 0.6931 - val_accuracy: 0.4988\n",
      "Epoch 7/30\n",
      "51/51 [==============================] - 1s 26ms/step - loss: 0.6931 - accuracy: 0.5049 - val_loss: 0.6931 - val_accuracy: 0.4988\n",
      "Epoch 8/30\n",
      "51/51 [==============================] - 1s 26ms/step - loss: 0.6931 - accuracy: 0.5049 - val_loss: 0.6931 - val_accuracy: 0.4988\n",
      "Epoch 9/30\n",
      "51/51 [==============================] - 1s 26ms/step - loss: 0.6931 - accuracy: 0.5049 - val_loss: 0.6931 - val_accuracy: 0.4988\n",
      "Epoch 10/30\n",
      "51/51 [==============================] - 1s 26ms/step - loss: 0.6931 - accuracy: 0.5049 - val_loss: 0.6931 - val_accuracy: 0.4988\n",
      "Epoch 11/30\n",
      "51/51 [==============================] - 1s 26ms/step - loss: 0.6931 - accuracy: 0.5049 - val_loss: 0.6931 - val_accuracy: 0.4988\n",
      "Epoch 12/30\n",
      "51/51 [==============================] - 1s 26ms/step - loss: 0.6461 - accuracy: 0.6625 - val_loss: 0.6127 - val_accuracy: 0.7951\n",
      "Epoch 13/30\n",
      "51/51 [==============================] - 1s 28ms/step - loss: 0.5572 - accuracy: 0.8949 - val_loss: 0.5967 - val_accuracy: 0.8272\n",
      "Epoch 14/30\n",
      "51/51 [==============================] - 1s 27ms/step - loss: 0.5327 - accuracy: 0.9394 - val_loss: 0.5938 - val_accuracy: 0.8123\n",
      "Epoch 15/30\n",
      "51/51 [==============================] - 1s 27ms/step - loss: 0.5267 - accuracy: 0.9543 - val_loss: 0.5884 - val_accuracy: 0.8099\n",
      "Epoch 16/30\n",
      "51/51 [==============================] - 1s 27ms/step - loss: 0.5220 - accuracy: 0.9642 - val_loss: 0.5899 - val_accuracy: 0.8222\n",
      "Epoch 17/30\n",
      "51/51 [==============================] - 1s 27ms/step - loss: 0.5194 - accuracy: 0.9697 - val_loss: 0.5894 - val_accuracy: 0.8222\n",
      "Epoch 18/30\n",
      "51/51 [==============================] - 1s 27ms/step - loss: 0.5152 - accuracy: 0.9796 - val_loss: 0.5952 - val_accuracy: 0.8173\n",
      "Epoch 19/30\n",
      "51/51 [==============================] - 2s 30ms/step - loss: 0.5139 - accuracy: 0.9815 - val_loss: 0.5950 - val_accuracy: 0.8123\n",
      "Epoch 20/30\n",
      "51/51 [==============================] - 1s 29ms/step - loss: 0.5133 - accuracy: 0.9845 - val_loss: 0.5980 - val_accuracy: 0.8173\n",
      "Epoch 21/30\n",
      "51/51 [==============================] - 2s 30ms/step - loss: 0.5142 - accuracy: 0.9815 - val_loss: 0.5962 - val_accuracy: 0.8000\n",
      "Epoch 22/30\n",
      "51/51 [==============================] - 1s 29ms/step - loss: 0.5128 - accuracy: 0.9845 - val_loss: 0.6033 - val_accuracy: 0.7975\n",
      "Epoch 23/30\n",
      "51/51 [==============================] - 2s 31ms/step - loss: 0.5121 - accuracy: 0.9852 - val_loss: 0.6046 - val_accuracy: 0.7901\n",
      "Epoch 24/30\n",
      "51/51 [==============================] - 1s 29ms/step - loss: 0.5119 - accuracy: 0.9858 - val_loss: 0.5951 - val_accuracy: 0.7951\n",
      "Epoch 25/30\n",
      "51/51 [==============================] - 1s 29ms/step - loss: 0.5133 - accuracy: 0.9827 - val_loss: 0.6087 - val_accuracy: 0.7802\n",
      "Epoch 26/30\n",
      "51/51 [==============================] - 1s 29ms/step - loss: 0.5108 - accuracy: 0.9870 - val_loss: 0.5986 - val_accuracy: 0.8049\n",
      "Epoch 27/30\n",
      "51/51 [==============================] - 1s 29ms/step - loss: 0.5119 - accuracy: 0.9864 - val_loss: 0.6032 - val_accuracy: 0.7877\n",
      "Epoch 28/30\n",
      "51/51 [==============================] - 2s 30ms/step - loss: 0.5108 - accuracy: 0.9876 - val_loss: 0.6049 - val_accuracy: 0.8000\n",
      "Epoch 29/30\n",
      "51/51 [==============================] - 1s 28ms/step - loss: 0.5109 - accuracy: 0.9876 - val_loss: 0.6131 - val_accuracy: 0.7926\n",
      "Epoch 30/30\n",
      "51/51 [==============================] - 1s 29ms/step - loss: 0.5099 - accuracy: 0.9901 - val_loss: 0.6139 - val_accuracy: 0.7827\n"
     ]
    },
    {
     "data": {
      "image/png": "[encoded data removed]",
      "text/plain": [
       "<Figure size 432x288 with 1 Axes>"
      ]
     },
     "metadata": {
      "needs_background": "light"
     },
     "output_type": "display_data"
    },
    {
     "data": {
      "image/png": "[encoded data removed]",
      "text/plain": [
       "<Figure size 432x288 with 1 Axes>"
      ]
     },
     "metadata": {
      "needs_background": "light"
     },
     "output_type": "display_data"
    },
    {
     "name": "stdout",
     "output_type": "stream",
     "text": [
      "I love this phone\n",
      "[0.9998938]\n",
      "\n",
      "\n",
      "I hate spaghetti\n",
      "[3.8955855e-06]\n",
      "\n",
      "\n",
      "Everything was cold\n",
      "[0.9964932]\n",
      "\n",
      "\n",
      "Everything was hot exactly as I wanted\n",
      "[0.99975896]\n",
      "\n",
      "\n",
      "Everything was green\n",
      "[0.9994983]\n",
      "\n",
      "\n",
      "the host seated us immediately\n",
      "[0.0006575]\n",
      "\n",
      "\n",
      "they gave us free chocolate cake\n",
      "[0.9999784]\n",
      "\n",
      "\n",
      "not sure about the wilted flowers on the table\n",
      "[3.788004e-10]\n",
      "\n",
      "\n",
      "only works when I stand on tippy toes\n",
      "[0.99901736]\n",
      "\n",
      "\n",
      "does not work when I stand on my head\n",
      "[2.7933509e-09]\n",
      "\n",
      "\n"
     ]
    }
   ],
   "source": [
    "num_epochs = 30\n",
    "\n",
    "model_bi_lstm = tf.keras.Sequential([\n",
    "    tf.keras.layers.Embedding(vocab_size, embedding_dim, input_length=max_length),\n",
    "    tf.keras.layers.Bidirectional(tf.keras.layers.LSTM(embedding_dim, dropout = 0.6)),\n",
    "    tf.keras.layers.Dense(6, activation='relu'), \n",
    "    tf.keras.layers.Dense(1, activation='sigmoid')\n",
    "])\n",
    "learning_rate = 0.001\n",
    "model_bi_lstm.compile(loss=tf.keras.losses.BinaryCrossentropy(from_logits=True),\n",
    "                      optimizer=tf.keras.optimizers.Adam(learning_rate),metrics=['accuracy'])\n",
    "\n",
    "# Compile and train the model and then show the predictions for our extra sentences\n",
    "evaluate_model(model_bi_lstm, example_reviews)"
   ]
  },
  {
   "cell_type": "markdown",
   "metadata": {},
   "source": [
    "#### Embeddings and two Bidirectional LSTM layers"
   ]
  },
  {
   "cell_type": "code",
   "execution_count": 17,
   "metadata": {},
   "outputs": [
    {
     "name": "stdout",
     "output_type": "stream",
     "text": [
      "Model: \"sequential_2\"\n",
      "_________________________________________________________________\n",
      "Layer (type)                 Output Shape              Param #   \n",
      "=================================================================\n",
      "embedding_2 (Embedding)      (None, 50, 64)            192000    \n",
      "_________________________________________________________________\n",
      "bidirectional_1 (Bidirection (None, 50, 128)           66048     \n",
      "_________________________________________________________________\n",
      "bidirectional_2 (Bidirection (None, 128)               98816     \n",
      "_________________________________________________________________\n",
      "dense_4 (Dense)              (None, 6)                 774       \n",
      "_________________________________________________________________\n",
      "dense_5 (Dense)              (None, 1)                 7         \n",
      "=================================================================\n",
      "Total params: 357,645\n",
      "Trainable params: 357,645\n",
      "Non-trainable params: 0\n",
      "_________________________________________________________________\n",
      "Epoch 1/30\n",
      "51/51 [==============================] - 5s 94ms/step - loss: 0.7259 - accuracy: 0.5062 - val_loss: 0.7222 - val_accuracy: 0.4988\n",
      "Epoch 2/30\n",
      "51/51 [==============================] - 3s 53ms/step - loss: 0.7187 - accuracy: 0.5049 - val_loss: 0.6936 - val_accuracy: 0.4988\n",
      "Epoch 3/30\n",
      "51/51 [==============================] - 3s 52ms/step - loss: 0.6937 - accuracy: 0.5049 - val_loss: 0.6931 - val_accuracy: 0.4988\n",
      "Epoch 4/30\n",
      "51/51 [==============================] - 3s 54ms/step - loss: 0.6932 - accuracy: 0.5049 - val_loss: 0.6931 - val_accuracy: 0.4988\n",
      "Epoch 5/30\n",
      "51/51 [==============================] - 3s 54ms/step - loss: 0.6929 - accuracy: 0.5049 - val_loss: 0.6919 - val_accuracy: 0.4988\n",
      "Epoch 6/30\n",
      "51/51 [==============================] - 3s 60ms/step - loss: 0.6140 - accuracy: 0.7250 - val_loss: 0.6194 - val_accuracy: 0.7012\n",
      "Epoch 7/30\n",
      "51/51 [==============================] - 3s 62ms/step - loss: 0.5932 - accuracy: 0.7744 - val_loss: 0.6165 - val_accuracy: 0.7086\n",
      "Epoch 8/30\n",
      "51/51 [==============================] - 3s 59ms/step - loss: 0.5854 - accuracy: 0.7948 - val_loss: 0.6136 - val_accuracy: 0.7160\n",
      "Epoch 9/30\n",
      "51/51 [==============================] - 3s 65ms/step - loss: 0.5809 - accuracy: 0.8066 - val_loss: 0.6136 - val_accuracy: 0.7160\n",
      "Epoch 10/30\n",
      "51/51 [==============================] - 3s 63ms/step - loss: 0.5790 - accuracy: 0.8115 - val_loss: 0.6151 - val_accuracy: 0.7136\n",
      "Epoch 11/30\n",
      "51/51 [==============================] - 3s 62ms/step - loss: 0.5778 - accuracy: 0.8146 - val_loss: 0.6151 - val_accuracy: 0.7136\n",
      "Epoch 12/30\n",
      "51/51 [==============================] - 3s 62ms/step - loss: 0.5775 - accuracy: 0.8152 - val_loss: 0.6151 - val_accuracy: 0.7136\n",
      "Epoch 13/30\n",
      "51/51 [==============================] - 3s 60ms/step - loss: 0.5766 - accuracy: 0.8177 - val_loss: 0.6151 - val_accuracy: 0.7136\n",
      "Epoch 14/30\n",
      "51/51 [==============================] - 3s 61ms/step - loss: 0.5764 - accuracy: 0.8183 - val_loss: 0.6151 - val_accuracy: 0.7136\n",
      "Epoch 15/30\n",
      "51/51 [==============================] - 3s 59ms/step - loss: 0.5761 - accuracy: 0.8189 - val_loss: 0.6160 - val_accuracy: 0.7111\n",
      "Epoch 16/30\n",
      "51/51 [==============================] - 3s 62ms/step - loss: 0.5759 - accuracy: 0.8195 - val_loss: 0.6151 - val_accuracy: 0.7136\n",
      "Epoch 17/30\n",
      "51/51 [==============================] - 3s 60ms/step - loss: 0.5761 - accuracy: 0.8189 - val_loss: 0.6151 - val_accuracy: 0.7136\n",
      "Epoch 18/30\n",
      "51/51 [==============================] - 3s 61ms/step - loss: 0.5755 - accuracy: 0.8201 - val_loss: 0.6151 - val_accuracy: 0.7136\n",
      "Epoch 19/30\n",
      "51/51 [==============================] - 3s 60ms/step - loss: 0.5755 - accuracy: 0.8201 - val_loss: 0.6151 - val_accuracy: 0.7136\n",
      "Epoch 20/30\n",
      "51/51 [==============================] - 3s 61ms/step - loss: 0.5753 - accuracy: 0.8208 - val_loss: 0.6151 - val_accuracy: 0.7136\n",
      "Epoch 21/30\n",
      "51/51 [==============================] - 3s 60ms/step - loss: 0.5753 - accuracy: 0.8208 - val_loss: 0.6151 - val_accuracy: 0.7136\n",
      "Epoch 22/30\n",
      "51/51 [==============================] - 3s 61ms/step - loss: 0.5753 - accuracy: 0.8208 - val_loss: 0.6151 - val_accuracy: 0.7136\n",
      "Epoch 23/30\n",
      "51/51 [==============================] - 3s 61ms/step - loss: 0.5753 - accuracy: 0.8208 - val_loss: 0.6151 - val_accuracy: 0.7136\n",
      "Epoch 24/30\n",
      "51/51 [==============================] - 3s 58ms/step - loss: 0.5750 - accuracy: 0.8214 - val_loss: 0.6151 - val_accuracy: 0.7136\n",
      "Epoch 25/30\n",
      "51/51 [==============================] - 3s 61ms/step - loss: 0.5748 - accuracy: 0.8220 - val_loss: 0.6151 - val_accuracy: 0.7136\n",
      "Epoch 26/30\n",
      "51/51 [==============================] - 3s 63ms/step - loss: 0.5750 - accuracy: 0.8214 - val_loss: 0.6166 - val_accuracy: 0.7111\n",
      "Epoch 27/30\n",
      "51/51 [==============================] - 4s 74ms/step - loss: 0.5748 - accuracy: 0.8220 - val_loss: 0.6166 - val_accuracy: 0.7111\n",
      "Epoch 28/30\n",
      "51/51 [==============================] - 3s 64ms/step - loss: 0.5748 - accuracy: 0.8220 - val_loss: 0.6166 - val_accuracy: 0.7111\n",
      "Epoch 29/30\n",
      "51/51 [==============================] - 3s 60ms/step - loss: 0.5748 - accuracy: 0.8220 - val_loss: 0.6166 - val_accuracy: 0.7111\n",
      "Epoch 30/30\n",
      "51/51 [==============================] - 3s 60ms/step - loss: 0.5748 - accuracy: 0.8220 - val_loss: 0.6166 - val_accuracy: 0.7111\n"
     ]
    },
    {
     "data": {
      "image/png": "[encoded data removed]",
      "text/plain": [
       "<Figure size 432x288 with 1 Axes>"
      ]
     },
     "metadata": {
      "needs_background": "light"
     },
     "output_type": "display_data"
    },
    {
     "data": {
      "image/png": "[encoded data removed]",
      "text/plain": [
       "<Figure size 432x288 with 1 Axes>"
      ]
     },
     "metadata": {
      "needs_background": "light"
     },
     "output_type": "display_data"
    },
    {
     "name": "stdout",
     "output_type": "stream",
     "text": [
      "I love this phone\n",
      "[0.99999774]\n",
      "\n",
      "\n",
      "I hate spaghetti\n",
      "[2.19604e-05]\n",
      "\n",
      "\n",
      "Everything was cold\n",
      "[3.4688113e-05]\n",
      "\n",
      "\n",
      "Everything was hot exactly as I wanted\n",
      "[4.439352e-05]\n",
      "\n",
      "\n",
      "Everything was green\n",
      "[3.081014e-05]\n",
      "\n",
      "\n",
      "the host seated us immediately\n",
      "[2.1985903e-05]\n",
      "\n",
      "\n",
      "they gave us free chocolate cake\n",
      "[2.5385845e-05]\n",
      "\n",
      "\n",
      "not sure about the wilted flowers on the table\n",
      "[2.1261014e-05]\n",
      "\n",
      "\n",
      "only works when I stand on tippy toes\n",
      "[2.183e-05]\n",
      "\n",
      "\n",
      "does not work when I stand on my head\n",
      "[2.1767217e-05]\n",
      "\n",
      "\n"
     ]
    }
   ],
   "source": [
    "num_epochs = 30\n",
    "\n",
    "model_multiple_bi_lstm = tf.keras.Sequential([\n",
    "    tf.keras.layers.Embedding(vocab_size, embedding_dim, input_length=max_length),\n",
    "    tf.keras.layers.Bidirectional(tf.keras.layers.LSTM(embedding_dim, \n",
    "                                                       return_sequences=True)), \n",
    "    tf.keras.layers.Bidirectional(tf.keras.layers.LSTM(embedding_dim)),\n",
    "    tf.keras.layers.Dense(6, activation='relu'),\n",
    "    tf.keras.layers.Dense(1, activation='sigmoid')\n",
    "])\n",
    "learning_rate = 0.001\n",
    "model_multiple_bi_lstm.compile(loss=tf.keras.losses.BinaryCrossentropy(from_logits=True),\n",
    "                      optimizer=tf.keras.optimizers.Adam(learning_rate),metrics=['accuracy'])\n",
    "\n",
    "evaluate_model(model_multiple_bi_lstm, example_reviews)"
   ]
  },
  {
   "cell_type": "markdown",
   "metadata": {},
   "source": [
    "#### Embeddings and Convulotional Layer"
   ]
  },
  {
   "cell_type": "code",
   "execution_count": 42,
   "metadata": {},
   "outputs": [
    {
     "name": "stdout",
     "output_type": "stream",
     "text": [
      "Model: \"sequential_14\"\n",
      "_________________________________________________________________\n",
      "Layer (type)                 Output Shape              Param #   \n",
      "=================================================================\n",
      "embedding_15 (Embedding)     (None, 50, 150)           450000    \n",
      "_________________________________________________________________\n",
      "conv1d_18 (Conv1D)           (None, 46, 32)            24032     \n",
      "_________________________________________________________________\n",
      "global_max_pooling1d_10 (Glo (None, 32)                0         \n",
      "_________________________________________________________________\n",
      "dense_25 (Dense)             (None, 1)                 33        \n",
      "=================================================================\n",
      "Total params: 474,065\n",
      "Trainable params: 474,065\n",
      "Non-trainable params: 0\n",
      "_________________________________________________________________\n",
      "Epoch 1/30\n",
      "51/51 [==============================] - 1s 13ms/step - loss: 0.7047 - accuracy: 0.5056 - val_loss: 0.6920 - val_accuracy: 0.4988\n",
      "Epoch 2/30\n",
      "51/51 [==============================] - 1s 12ms/step - loss: 0.6852 - accuracy: 0.5062 - val_loss: 0.6723 - val_accuracy: 0.5556\n",
      "Epoch 3/30\n",
      "51/51 [==============================] - 1s 11ms/step - loss: 0.6131 - accuracy: 0.7998 - val_loss: 0.6007 - val_accuracy: 0.8272\n",
      "Epoch 4/30\n",
      "51/51 [==============================] - 1s 11ms/step - loss: 0.5468 - accuracy: 0.9351 - val_loss: 0.5951 - val_accuracy: 0.8420\n",
      "Epoch 5/30\n",
      "51/51 [==============================] - 1s 11ms/step - loss: 0.5258 - accuracy: 0.9672 - val_loss: 0.6006 - val_accuracy: 0.8247\n",
      "Epoch 6/30\n",
      "51/51 [==============================] - 1s 11ms/step - loss: 0.5190 - accuracy: 0.9765 - val_loss: 0.5938 - val_accuracy: 0.8346\n",
      "Epoch 7/30\n",
      "51/51 [==============================] - 1s 12ms/step - loss: 0.5152 - accuracy: 0.9802 - val_loss: 0.5992 - val_accuracy: 0.8222\n",
      "Epoch 8/30\n",
      "51/51 [==============================] - 1s 13ms/step - loss: 0.5135 - accuracy: 0.9839 - val_loss: 0.5938 - val_accuracy: 0.8296\n",
      "Epoch 9/30\n",
      "51/51 [==============================] - 1s 12ms/step - loss: 0.5120 - accuracy: 0.9864 - val_loss: 0.5911 - val_accuracy: 0.8296\n",
      "Epoch 10/30\n",
      "51/51 [==============================] - 1s 11ms/step - loss: 0.5109 - accuracy: 0.9889 - val_loss: 0.5975 - val_accuracy: 0.8247\n",
      "Epoch 11/30\n",
      "51/51 [==============================] - 1s 10ms/step - loss: 0.5105 - accuracy: 0.9883 - val_loss: 0.5899 - val_accuracy: 0.8222\n",
      "Epoch 12/30\n",
      "51/51 [==============================] - 1s 10ms/step - loss: 0.5102 - accuracy: 0.9889 - val_loss: 0.5925 - val_accuracy: 0.8222\n",
      "Epoch 13/30\n",
      "51/51 [==============================] - 1s 10ms/step - loss: 0.5097 - accuracy: 0.9895 - val_loss: 0.5920 - val_accuracy: 0.8222\n",
      "Epoch 14/30\n",
      "51/51 [==============================] - 1s 10ms/step - loss: 0.5095 - accuracy: 0.9901 - val_loss: 0.5906 - val_accuracy: 0.8222\n",
      "Epoch 15/30\n",
      "51/51 [==============================] - 1s 10ms/step - loss: 0.5093 - accuracy: 0.9901 - val_loss: 0.5925 - val_accuracy: 0.8222\n",
      "Epoch 16/30\n",
      "51/51 [==============================] - 1s 10ms/step - loss: 0.5091 - accuracy: 0.9907 - val_loss: 0.5914 - val_accuracy: 0.8074\n",
      "Epoch 17/30\n",
      "51/51 [==============================] - 1s 11ms/step - loss: 0.5090 - accuracy: 0.9907 - val_loss: 0.5929 - val_accuracy: 0.8123\n",
      "Epoch 18/30\n",
      "51/51 [==============================] - 1s 10ms/step - loss: 0.5087 - accuracy: 0.9920 - val_loss: 0.5949 - val_accuracy: 0.8148\n",
      "Epoch 19/30\n",
      "51/51 [==============================] - 1s 11ms/step - loss: 0.5084 - accuracy: 0.9920 - val_loss: 0.5915 - val_accuracy: 0.8074\n",
      "Epoch 20/30\n",
      "51/51 [==============================] - 1s 10ms/step - loss: 0.5084 - accuracy: 0.9920 - val_loss: 0.5931 - val_accuracy: 0.8148\n",
      "Epoch 21/30\n",
      "51/51 [==============================] - 1s 10ms/step - loss: 0.5083 - accuracy: 0.9920 - val_loss: 0.5937 - val_accuracy: 0.8123\n",
      "Epoch 22/30\n",
      "51/51 [==============================] - 1s 10ms/step - loss: 0.5081 - accuracy: 0.9926 - val_loss: 0.5937 - val_accuracy: 0.8099\n",
      "Epoch 23/30\n",
      "51/51 [==============================] - 1s 10ms/step - loss: 0.5081 - accuracy: 0.9926 - val_loss: 0.5936 - val_accuracy: 0.8123\n",
      "Epoch 24/30\n",
      "51/51 [==============================] - 1s 10ms/step - loss: 0.5080 - accuracy: 0.9926 - val_loss: 0.5928 - val_accuracy: 0.8123\n",
      "Epoch 25/30\n",
      "51/51 [==============================] - 1s 10ms/step - loss: 0.5080 - accuracy: 0.9926 - val_loss: 0.5932 - val_accuracy: 0.8123\n",
      "Epoch 26/30\n",
      "51/51 [==============================] - 1s 10ms/step - loss: 0.5080 - accuracy: 0.9926 - val_loss: 0.5932 - val_accuracy: 0.8074\n",
      "Epoch 27/30\n",
      "51/51 [==============================] - 1s 10ms/step - loss: 0.5079 - accuracy: 0.9926 - val_loss: 0.5952 - val_accuracy: 0.8000\n",
      "Epoch 28/30\n",
      "51/51 [==============================] - 1s 10ms/step - loss: 0.5078 - accuracy: 0.9932 - val_loss: 0.5941 - val_accuracy: 0.8074\n",
      "Epoch 29/30\n",
      "51/51 [==============================] - 1s 10ms/step - loss: 0.5078 - accuracy: 0.9932 - val_loss: 0.5944 - val_accuracy: 0.8000\n",
      "Epoch 30/30\n",
      "51/51 [==============================] - 1s 10ms/step - loss: 0.5077 - accuracy: 0.9932 - val_loss: 0.5940 - val_accuracy: 0.8074\n"
     ]
    },
    {
     "data": {
      "image/png": "[encoded data removed]",
      "text/plain": [
       "<Figure size 432x288 with 1 Axes>"
      ]
     },
     "metadata": {
      "needs_background": "light"
     },
     "output_type": "display_data"
    },
    {
     "data": {
      "image/png": "[encoded data removed]",
      "text/plain": [
       "<Figure size 432x288 with 1 Axes>"
      ]
     },
     "metadata": {
      "needs_background": "light"
     },
     "output_type": "display_data"
    },
    {
     "name": "stdout",
     "output_type": "stream",
     "text": [
      "WARNING:tensorflow:7 out of the last 7 calls to <function Model.make_predict_function.<locals>.predict_function at 0x0000019CE484E0D0> triggered tf.function retracing. Tracing is expensive and the excessive number of tracings could be due to (1) creating @tf.function repeatedly in a loop, (2) passing tensors with different shapes, (3) passing Python objects instead of tensors. For (1), please define your @tf.function outside of the loop. For (2), @tf.function has experimental_relax_shapes=True option that relaxes argument shapes that can avoid unnecessary retracing. For (3), please refer to https://www.tensorflow.org/tutorials/customization/performance#python_or_tensor_args and https://www.tensorflow.org/api_docs/python/tf/function for  more details.\n",
      "I love this phone\n",
      "[0.99899524]\n",
      "\n",
      "\n",
      "I hate spaghetti\n",
      "[1.0184606e-06]\n",
      "\n",
      "\n",
      "Everything was cold\n",
      "[0.00037131]\n",
      "\n",
      "\n",
      "Everything was hot exactly as I wanted\n",
      "[0.9563887]\n",
      "\n",
      "\n",
      "Everything was green\n",
      "[0.3075859]\n",
      "\n",
      "\n",
      "the host seated us immediately\n",
      "[0.02077547]\n",
      "\n",
      "\n",
      "they gave us free chocolate cake\n",
      "[0.8699902]\n",
      "\n",
      "\n",
      "not sure about the wilted flowers on the table\n",
      "[1.814626e-06]\n",
      "\n",
      "\n",
      "only works when I stand on tippy toes\n",
      "[0.9768974]\n",
      "\n",
      "\n",
      "does not work when I stand on my head\n",
      "[1.8948775e-08]\n",
      "\n",
      "\n"
     ]
    }
   ],
   "source": [
    "num_epochs = 30\n",
    "\n",
    "model_cnn = tf.keras.Sequential([\n",
    "    tf.keras.layers.Embedding(vocab_size, embedding_dim, input_length=max_length),\n",
    "    tf.keras.layers.Conv1D(32, 5, activation='relu'),\n",
    "    tf.keras.layers.GlobalMaxPooling1D(),\n",
    "    tf.keras.layers.Dense(1, activation='sigmoid')\n",
    "])\n",
    "\n",
    "learning_rate = 0.001\n",
    "model_cnn.compile(loss=tf.keras.losses.BinaryCrossentropy(from_logits=True),\n",
    "                      optimizer=tf.keras.optimizers.Adam(learning_rate),metrics=['accuracy'])\n",
    "\n",
    "evaluate_model(model_cnn, example_reviews)"
   ]
  },
  {
   "cell_type": "markdown",
   "metadata": {},
   "source": [
    "#### Embeddings and Gated Recorrent Units Layer"
   ]
  },
  {
   "cell_type": "code",
   "execution_count": 19,
   "metadata": {},
   "outputs": [
    {
     "name": "stdout",
     "output_type": "stream",
     "text": [
      "Model: \"sequential_4\"\n",
      "_________________________________________________________________\n",
      "Layer (type)                 Output Shape              Param #   \n",
      "=================================================================\n",
      "embedding_4 (Embedding)      (None, 50, 64)            192000    \n",
      "_________________________________________________________________\n",
      "bidirectional_3 (Bidirection (None, 64)                18816     \n",
      "_________________________________________________________________\n",
      "dense_7 (Dense)              (None, 1)                 65        \n",
      "=================================================================\n",
      "Total params: 210,881\n",
      "Trainable params: 210,881\n",
      "Non-trainable params: 0\n",
      "_________________________________________________________________\n",
      "Epoch 1/30\n",
      "51/51 [==============================] - 2s 35ms/step - loss: 0.6808 - accuracy: 0.5723 - val_loss: 0.6423 - val_accuracy: 0.6691\n",
      "Epoch 2/30\n",
      "51/51 [==============================] - 1s 21ms/step - loss: 0.4672 - accuracy: 0.8381 - val_loss: 0.4743 - val_accuracy: 0.7778\n",
      "Epoch 3/30\n",
      "51/51 [==============================] - 1s 21ms/step - loss: 0.2094 - accuracy: 0.9283 - val_loss: 0.4502 - val_accuracy: 0.8123\n",
      "Epoch 4/30\n",
      "51/51 [==============================] - 1s 20ms/step - loss: 0.1040 - accuracy: 0.9703 - val_loss: 0.5306 - val_accuracy: 0.8099\n",
      "Epoch 5/30\n",
      "51/51 [==============================] - 1s 21ms/step - loss: 0.0581 - accuracy: 0.9870 - val_loss: 0.6118 - val_accuracy: 0.8148\n",
      "Epoch 6/30\n",
      "51/51 [==============================] - 1s 21ms/step - loss: 0.0396 - accuracy: 0.9913 - val_loss: 0.6280 - val_accuracy: 0.8123\n",
      "Epoch 7/30\n",
      "51/51 [==============================] - 1s 20ms/step - loss: 0.0289 - accuracy: 0.9932 - val_loss: 0.6728 - val_accuracy: 0.7951\n",
      "Epoch 8/30\n",
      "51/51 [==============================] - 1s 20ms/step - loss: 0.0231 - accuracy: 0.9957 - val_loss: 0.7521 - val_accuracy: 0.8049\n",
      "Epoch 9/30\n",
      "51/51 [==============================] - 1s 21ms/step - loss: 0.0158 - accuracy: 0.9975 - val_loss: 0.8092 - val_accuracy: 0.7975\n",
      "Epoch 10/30\n",
      "51/51 [==============================] - 1s 21ms/step - loss: 0.0113 - accuracy: 0.9981 - val_loss: 0.9377 - val_accuracy: 0.7778\n",
      "Epoch 11/30\n",
      "51/51 [==============================] - 1s 21ms/step - loss: 0.0543 - accuracy: 0.9839 - val_loss: 0.8685 - val_accuracy: 0.7877\n",
      "Epoch 12/30\n",
      "51/51 [==============================] - 1s 20ms/step - loss: 0.0168 - accuracy: 0.9963 - val_loss: 0.9100 - val_accuracy: 0.7827\n",
      "Epoch 13/30\n",
      "51/51 [==============================] - 1s 21ms/step - loss: 0.0093 - accuracy: 0.9963 - val_loss: 0.9358 - val_accuracy: 0.7827\n",
      "Epoch 14/30\n",
      "51/51 [==============================] - 1s 21ms/step - loss: 0.0071 - accuracy: 0.9981 - val_loss: 0.9903 - val_accuracy: 0.7802\n",
      "Epoch 15/30\n",
      "51/51 [==============================] - 1s 21ms/step - loss: 0.0053 - accuracy: 0.9988 - val_loss: 1.0259 - val_accuracy: 0.7654\n",
      "Epoch 16/30\n",
      "51/51 [==============================] - 1s 21ms/step - loss: 0.0075 - accuracy: 0.9981 - val_loss: 1.0332 - val_accuracy: 0.7704\n",
      "Epoch 17/30\n",
      "51/51 [==============================] - 1s 21ms/step - loss: 0.0056 - accuracy: 0.9981 - val_loss: 1.0486 - val_accuracy: 0.7728\n",
      "Epoch 18/30\n",
      "51/51 [==============================] - 1s 21ms/step - loss: 0.0042 - accuracy: 0.9994 - val_loss: 1.0612 - val_accuracy: 0.7704\n",
      "Epoch 19/30\n",
      "51/51 [==============================] - 1s 20ms/step - loss: 0.0040 - accuracy: 0.9988 - val_loss: 1.0751 - val_accuracy: 0.7728\n",
      "Epoch 20/30\n",
      "51/51 [==============================] - 1s 21ms/step - loss: 0.0046 - accuracy: 0.9975 - val_loss: 1.1029 - val_accuracy: 0.7778\n",
      "Epoch 21/30\n",
      "51/51 [==============================] - 1s 21ms/step - loss: 0.0043 - accuracy: 0.9981 - val_loss: 1.1125 - val_accuracy: 0.7704\n",
      "Epoch 22/30\n",
      "51/51 [==============================] - 1s 21ms/step - loss: 0.0034 - accuracy: 0.9988 - val_loss: 1.1563 - val_accuracy: 0.7753\n",
      "Epoch 23/30\n",
      "51/51 [==============================] - 1s 21ms/step - loss: 0.0030 - accuracy: 0.9994 - val_loss: 1.1870 - val_accuracy: 0.7778\n",
      "Epoch 24/30\n",
      "51/51 [==============================] - 1s 21ms/step - loss: 0.0023 - accuracy: 1.0000 - val_loss: 1.1846 - val_accuracy: 0.7778\n",
      "Epoch 25/30\n",
      "51/51 [==============================] - 1s 22ms/step - loss: 0.0244 - accuracy: 0.9889 - val_loss: 1.0749 - val_accuracy: 0.7556\n",
      "Epoch 26/30\n",
      "51/51 [==============================] - 1s 22ms/step - loss: 0.0307 - accuracy: 0.9870 - val_loss: 1.1395 - val_accuracy: 0.7728\n",
      "Epoch 27/30\n",
      "51/51 [==============================] - 1s 21ms/step - loss: 0.0123 - accuracy: 0.9944 - val_loss: 1.2338 - val_accuracy: 0.7778\n",
      "Epoch 28/30\n",
      "51/51 [==============================] - 1s 21ms/step - loss: 0.0045 - accuracy: 0.9981 - val_loss: 1.2374 - val_accuracy: 0.7827\n",
      "Epoch 29/30\n",
      "51/51 [==============================] - 1s 23ms/step - loss: 0.0032 - accuracy: 0.9994 - val_loss: 1.2508 - val_accuracy: 0.7852\n",
      "Epoch 30/30\n",
      "51/51 [==============================] - 1s 20ms/step - loss: 0.0026 - accuracy: 0.9994 - val_loss: 1.2719 - val_accuracy: 0.7852\n"
     ]
    },
    {
     "data": {
      "image/png": "[encoded data removed]",
      "text/plain": [
       "<Figure size 432x288 with 1 Axes>"
      ]
     },
     "metadata": {
      "needs_background": "light"
     },
     "output_type": "display_data"
    },
    {
     "data": {
      "image/png": "[encoded data removed]",
      "text/plain": [
       "<Figure size 432x288 with 1 Axes>"
      ]
     },
     "metadata": {
      "needs_background": "light"
     },
     "output_type": "display_data"
    },
    {
     "name": "stdout",
     "output_type": "stream",
     "text": [
      "WARNING:tensorflow:5 out of the last 5 calls to <function Model.make_predict_function.<locals>.predict_function at 0x0000019CD9FED430> triggered tf.function retracing. Tracing is expensive and the excessive number of tracings could be due to (1) creating @tf.function repeatedly in a loop, (2) passing tensors with different shapes, (3) passing Python objects instead of tensors. For (1), please define your @tf.function outside of the loop. For (2), @tf.function has experimental_relax_shapes=True option that relaxes argument shapes that can avoid unnecessary retracing. For (3), please refer to https://www.tensorflow.org/tutorials/customization/performance#python_or_tensor_args and https://www.tensorflow.org/api_docs/python/tf/function for  more details.\n",
      "I love this phone\n",
      "[0.9999585]\n",
      "\n",
      "\n",
      "I hate spaghetti\n",
      "[0.00011654]\n",
      "\n",
      "\n",
      "Everything was cold\n",
      "[0.22889367]\n",
      "\n",
      "\n",
      "Everything was hot exactly as I wanted\n",
      "[0.2740451]\n",
      "\n",
      "\n",
      "Everything was green\n",
      "[0.8353249]\n",
      "\n",
      "\n",
      "the host seated us immediately\n",
      "[0.3337748]\n",
      "\n",
      "\n",
      "they gave us free chocolate cake\n",
      "[0.9999896]\n",
      "\n",
      "\n",
      "not sure about the wilted flowers on the table\n",
      "[0.00011867]\n",
      "\n",
      "\n",
      "only works when I stand on tippy toes\n",
      "[0.9931568]\n",
      "\n",
      "\n",
      "does not work when I stand on my head\n",
      "[1.9332894e-05]\n",
      "\n",
      "\n"
     ]
    }
   ],
   "source": [
    "num_epochs = 30\n",
    "\n",
    "model_gru = tf.keras.Sequential([\n",
    "    tf.keras.layers.Embedding(vocab_size, embedding_dim, input_length=max_length),\n",
    "    tf.keras.layers.Bidirectional(tf.keras.layers.GRU(32)),\n",
    "    tf.keras.layers.Dense(1, activation='sigmoid')\n",
    "])\n",
    "\n",
    "learning_rate = 0.001 # slower than the default learning rate\n",
    "model_gru.compile(loss='binary_crossentropy',\n",
    "                  optimizer=tf.keras.optimizers.Adam(learning_rate),\n",
    "                  metrics=['accuracy'])\n",
    "\n",
    "evaluate_model(model_gru, example_reviews)"
   ]
  },
  {
   "cell_type": "code",
   "execution_count": 62,
   "metadata": {},
   "outputs": [
    {
     "data": {
      "text/plain": [
       "278"
      ]
     },
     "execution_count": 62,
     "metadata": {},
     "output_type": "execute_result"
    }
   ],
   "source": [
    "min(600, round(1.6 * 10000 ** .56))"
   ]
  },
  {
   "cell_type": "code",
   "execution_count": 24,
   "metadata": {},
   "outputs": [],
   "source": [
    "from tensorflow.keras import regularizers"
   ]
  },
  {
   "cell_type": "code",
   "execution_count": 79,
   "metadata": {},
   "outputs": [],
   "source": [
    "vocab_size = 5000\n",
    "embedding_dim = 100\n",
    "max_length = 50\n",
    "kernel_size = 3\n",
    "num_filters = 32\n",
    "trunc_type='post'\n",
    "padding_type='post'\n",
    "oov_tok = \"<OOV>\"\n",
    "\n",
    "\n",
    "tokenizer = Tokenizer(num_words = vocab_size, oov_token=oov_tok)\n",
    "tokenizer.fit_on_texts(training_sentences)\n",
    "word_index = tokenizer.word_index"
   ]
  },
  {
   "cell_type": "code",
   "execution_count": 82,
   "metadata": {},
   "outputs": [
    {
     "name": "stdout",
     "output_type": "stream",
     "text": [
      "WARNING:tensorflow:`period` argument is deprecated. Please use `save_freq` to specify the frequency in number of batches seen.\n",
      "Model: \"sequential_53\"\n",
      "_________________________________________________________________\n",
      "Layer (type)                 Output Shape              Param #   \n",
      "=================================================================\n",
      "embedding_54 (Embedding)     (None, 50, 100)           500000    \n",
      "_________________________________________________________________\n",
      "conv1d_57 (Conv1D)           (None, 48, 32)            9632      \n",
      "_________________________________________________________________\n",
      "global_max_pooling1d_49 (Glo (None, 32)                0         \n",
      "_________________________________________________________________\n",
      "dense_90 (Dense)             (None, 6)                 198       \n",
      "_________________________________________________________________\n",
      "dense_91 (Dense)             (None, 1)                 7         \n",
      "=================================================================\n",
      "Total params: 509,837\n",
      "Trainable params: 509,837\n",
      "Non-trainable params: 0\n",
      "_________________________________________________________________\n",
      "Epoch 1/50\n",
      "49/51 [===========================>..] - ETA: 0s - loss: 0.8190 - accuracy: 0.4943\n",
      "Epoch 00001: val_accuracy improved from -inf to 0.50123, saving model to best_model1.hdf5\n",
      "51/51 [==============================] - 1s 12ms/step - loss: 0.8182 - accuracy: 0.4951 - val_loss: 0.8120 - val_accuracy: 0.5012\n",
      "Epoch 2/50\n",
      "44/51 [========================>.....] - ETA: 0s - loss: 0.8111 - accuracy: 0.5021\n",
      "Epoch 00002: val_accuracy did not improve from 0.50123\n",
      "51/51 [==============================] - 0s 8ms/step - loss: 0.8182 - accuracy: 0.4951 - val_loss: 0.8120 - val_accuracy: 0.5012\n",
      "Epoch 3/50\n",
      "49/51 [===========================>..] - ETA: 0s - loss: 0.8209 - accuracy: 0.4923\n",
      "Epoch 00003: val_accuracy did not improve from 0.50123\n",
      "51/51 [==============================] - 0s 8ms/step - loss: 0.8182 - accuracy: 0.4951 - val_loss: 0.8120 - val_accuracy: 0.5012\n",
      "Epoch 4/50\n",
      "49/51 [===========================>..] - ETA: 0s - loss: 0.8209 - accuracy: 0.4923\n",
      "Epoch 00004: val_accuracy did not improve from 0.50123\n",
      "51/51 [==============================] - 0s 8ms/step - loss: 0.8182 - accuracy: 0.4951 - val_loss: 0.8120 - val_accuracy: 0.5012\n",
      "Epoch 5/50\n",
      "47/51 [==========================>...] - ETA: 0s - loss: 0.8153 - accuracy: 0.4980\n",
      "Epoch 00005: val_accuracy did not improve from 0.50123\n",
      "51/51 [==============================] - 0s 8ms/step - loss: 0.8182 - accuracy: 0.4951 - val_loss: 0.8120 - val_accuracy: 0.5012\n",
      "Epoch 6/50\n",
      "45/51 [=========================>....] - ETA: 0s - loss: 0.8112 - accuracy: 0.5021\n",
      "Epoch 00006: val_accuracy did not improve from 0.50123\n",
      "51/51 [==============================] - 0s 8ms/step - loss: 0.8182 - accuracy: 0.4951 - val_loss: 0.8120 - val_accuracy: 0.5012\n",
      "Epoch 7/50\n",
      "44/51 [========================>.....] - ETA: 0s - loss: 0.8189 - accuracy: 0.4943\n",
      "Epoch 00007: val_accuracy did not improve from 0.50123\n",
      "51/51 [==============================] - 0s 8ms/step - loss: 0.8182 - accuracy: 0.4951 - val_loss: 0.8120 - val_accuracy: 0.5012\n",
      "Epoch 8/50\n",
      "48/51 [===========================>..] - ETA: 0s - loss: 0.8165 - accuracy: 0.4967\n",
      "Epoch 00008: val_accuracy did not improve from 0.50123\n",
      "51/51 [==============================] - 0s 8ms/step - loss: 0.8182 - accuracy: 0.4951 - val_loss: 0.8120 - val_accuracy: 0.5012\n",
      "Epoch 9/50\n",
      "46/51 [==========================>...] - ETA: 0s - loss: 0.8187 - accuracy: 0.4946\n",
      "Epoch 00009: val_accuracy did not improve from 0.50123\n",
      "51/51 [==============================] - 0s 8ms/step - loss: 0.8182 - accuracy: 0.4951 - val_loss: 0.8120 - val_accuracy: 0.5012\n",
      "Epoch 10/50\n",
      "47/51 [==========================>...] - ETA: 0s - loss: 0.8146 - accuracy: 0.4987\n",
      "Epoch 00010: val_accuracy did not improve from 0.50123\n",
      "51/51 [==============================] - 0s 8ms/step - loss: 0.8182 - accuracy: 0.4951 - val_loss: 0.8120 - val_accuracy: 0.5012\n",
      "Epoch 11/50\n",
      "45/51 [=========================>....] - ETA: 0s - loss: 0.8306 - accuracy: 0.4826\n",
      "Epoch 00011: val_accuracy did not improve from 0.50123\n",
      "51/51 [==============================] - 0s 8ms/step - loss: 0.8182 - accuracy: 0.4951 - val_loss: 0.8120 - val_accuracy: 0.5012\n",
      "Epoch 12/50\n",
      "45/51 [=========================>....] - ETA: 0s - loss: 0.8244 - accuracy: 0.4889\n",
      "Epoch 00012: val_accuracy did not improve from 0.50123\n",
      "51/51 [==============================] - 0s 8ms/step - loss: 0.8182 - accuracy: 0.4951 - val_loss: 0.8120 - val_accuracy: 0.5012\n",
      "Epoch 13/50\n",
      "46/51 [==========================>...] - ETA: 0s - loss: 0.8044 - accuracy: 0.5088\n",
      "Epoch 00013: val_accuracy did not improve from 0.50123\n",
      "51/51 [==============================] - 0s 8ms/step - loss: 0.8182 - accuracy: 0.4951 - val_loss: 0.8120 - val_accuracy: 0.5012\n",
      "Epoch 14/50\n",
      "46/51 [==========================>...] - ETA: 0s - loss: 0.8112 - accuracy: 0.5020\n",
      "Epoch 00014: val_accuracy did not improve from 0.50123\n",
      "51/51 [==============================] - 0s 8ms/step - loss: 0.8182 - accuracy: 0.4951 - val_loss: 0.8120 - val_accuracy: 0.5012\n",
      "Epoch 15/50\n",
      "46/51 [==========================>...] - ETA: 0s - loss: 0.8153 - accuracy: 0.4980\n",
      "Epoch 00015: val_accuracy did not improve from 0.50123\n",
      "51/51 [==============================] - 0s 8ms/step - loss: 0.8182 - accuracy: 0.4951 - val_loss: 0.8120 - val_accuracy: 0.5012\n",
      "Epoch 16/50\n",
      "50/51 [============================>.] - ETA: 0s - loss: 0.8189 - accuracy: 0.4944\n",
      "Epoch 00016: val_accuracy did not improve from 0.50123\n",
      "51/51 [==============================] - 0s 8ms/step - loss: 0.8182 - accuracy: 0.4951 - val_loss: 0.8120 - val_accuracy: 0.5012\n",
      "Epoch 17/50\n",
      "51/51 [==============================] - ETA: 0s - loss: 0.8182 - accuracy: 0.4951\n",
      "Epoch 00017: val_accuracy did not improve from 0.50123\n",
      "51/51 [==============================] - 0s 8ms/step - loss: 0.8182 - accuracy: 0.4951 - val_loss: 0.8120 - val_accuracy: 0.5012\n",
      "Epoch 18/50\n",
      "48/51 [===========================>..] - ETA: 0s - loss: 0.8159 - accuracy: 0.4974\n",
      "Epoch 00018: val_accuracy did not improve from 0.50123\n",
      "51/51 [==============================] - 0s 8ms/step - loss: 0.8182 - accuracy: 0.4951 - val_loss: 0.8120 - val_accuracy: 0.5012\n",
      "Epoch 19/50\n",
      "44/51 [========================>.....] - ETA: 0s - loss: 0.8204 - accuracy: 0.4929\n",
      "Epoch 00019: val_accuracy did not improve from 0.50123\n",
      "51/51 [==============================] - 0s 8ms/step - loss: 0.8182 - accuracy: 0.4951 - val_loss: 0.8120 - val_accuracy: 0.5012\n",
      "Epoch 20/50\n",
      "46/51 [==========================>...] - ETA: 0s - loss: 0.8167 - accuracy: 0.4966\n",
      "Epoch 00020: val_accuracy did not improve from 0.50123\n",
      "51/51 [==============================] - 0s 8ms/step - loss: 0.8182 - accuracy: 0.4951 - val_loss: 0.8120 - val_accuracy: 0.5012\n",
      "Epoch 21/50\n",
      "49/51 [===========================>..] - ETA: 0s - loss: 0.8203 - accuracy: 0.4930\n",
      "Epoch 00021: val_accuracy did not improve from 0.50123\n",
      "51/51 [==============================] - 0s 8ms/step - loss: 0.8182 - accuracy: 0.4951 - val_loss: 0.8120 - val_accuracy: 0.5012\n",
      "Epoch 22/50\n",
      "47/51 [==========================>...] - ETA: 0s - loss: 0.8179 - accuracy: 0.4953\n",
      "Epoch 00022: val_accuracy did not improve from 0.50123\n",
      "51/51 [==============================] - 0s 8ms/step - loss: 0.8182 - accuracy: 0.4951 - val_loss: 0.8120 - val_accuracy: 0.5012\n",
      "Epoch 23/50\n",
      "46/51 [==========================>...] - ETA: 0s - loss: 0.8160 - accuracy: 0.4973\n",
      "Epoch 00023: val_accuracy did not improve from 0.50123\n",
      "51/51 [==============================] - 0s 8ms/step - loss: 0.8182 - accuracy: 0.4951 - val_loss: 0.8120 - val_accuracy: 0.5012\n",
      "Epoch 24/50\n",
      "47/51 [==========================>...] - ETA: 0s - loss: 0.8199 - accuracy: 0.4934\n",
      "Epoch 00024: val_accuracy did not improve from 0.50123\n",
      "51/51 [==============================] - 0s 7ms/step - loss: 0.8182 - accuracy: 0.4951 - val_loss: 0.8120 - val_accuracy: 0.5012\n",
      "Epoch 25/50\n",
      "45/51 [=========================>....] - ETA: 0s - loss: 0.8181 - accuracy: 0.4951\n",
      "Epoch 00025: val_accuracy did not improve from 0.50123\n",
      "51/51 [==============================] - 0s 8ms/step - loss: 0.8182 - accuracy: 0.4951 - val_loss: 0.8120 - val_accuracy: 0.5012\n",
      "Epoch 26/50\n",
      "51/51 [==============================] - ETA: 0s - loss: 0.8182 - accuracy: 0.4951\n",
      "Epoch 00026: val_accuracy did not improve from 0.50123\n",
      "51/51 [==============================] - 0s 9ms/step - loss: 0.8182 - accuracy: 0.4951 - val_loss: 0.8120 - val_accuracy: 0.5012\n",
      "Epoch 27/50\n",
      "51/51 [==============================] - ETA: 0s - loss: 0.8182 - accuracy: 0.4951\n",
      "Epoch 00027: val_accuracy did not improve from 0.50123\n",
      "51/51 [==============================] - 0s 8ms/step - loss: 0.8182 - accuracy: 0.4951 - val_loss: 0.8120 - val_accuracy: 0.5012\n",
      "Epoch 28/50\n",
      "46/51 [==========================>...] - ETA: 0s - loss: 0.8180 - accuracy: 0.4952\n",
      "Epoch 00028: val_accuracy did not improve from 0.50123\n",
      "51/51 [==============================] - 0s 8ms/step - loss: 0.8182 - accuracy: 0.4951 - val_loss: 0.8120 - val_accuracy: 0.5012\n",
      "Epoch 29/50\n",
      "46/51 [==========================>...] - ETA: 0s - loss: 0.8214 - accuracy: 0.4918\n",
      "Epoch 00029: val_accuracy did not improve from 0.50123\n",
      "51/51 [==============================] - 0s 8ms/step - loss: 0.8182 - accuracy: 0.4951 - val_loss: 0.8120 - val_accuracy: 0.5012\n",
      "Epoch 30/50\n",
      "46/51 [==========================>...] - ETA: 0s - loss: 0.8153 - accuracy: 0.4980\n",
      "Epoch 00030: val_accuracy did not improve from 0.50123\n",
      "51/51 [==============================] - 0s 8ms/step - loss: 0.8182 - accuracy: 0.4951 - val_loss: 0.8120 - val_accuracy: 0.5012\n",
      "Epoch 31/50\n",
      "46/51 [==========================>...] - ETA: 0s - loss: 0.8160 - accuracy: 0.4973\n",
      "Epoch 00031: val_accuracy did not improve from 0.50123\n",
      "51/51 [==============================] - 0s 8ms/step - loss: 0.8182 - accuracy: 0.4951 - val_loss: 0.8120 - val_accuracy: 0.5012\n",
      "Epoch 32/50\n",
      "45/51 [=========================>....] - ETA: 0s - loss: 0.8216 - accuracy: 0.4917\n",
      "Epoch 00032: val_accuracy did not improve from 0.50123\n",
      "51/51 [==============================] - 0s 8ms/step - loss: 0.8182 - accuracy: 0.4951 - val_loss: 0.8120 - val_accuracy: 0.5012\n",
      "Epoch 33/50\n",
      "45/51 [=========================>....] - ETA: 0s - loss: 0.8188 - accuracy: 0.4944\n",
      "Epoch 00033: val_accuracy did not improve from 0.50123\n",
      "51/51 [==============================] - 0s 9ms/step - loss: 0.8182 - accuracy: 0.4951 - val_loss: 0.8120 - val_accuracy: 0.5012\n",
      "Epoch 34/50\n",
      "50/51 [============================>.] - ETA: 0s - loss: 0.8176 - accuracy: 0.4956\n",
      "Epoch 00034: val_accuracy did not improve from 0.50123\n",
      "51/51 [==============================] - 0s 9ms/step - loss: 0.8182 - accuracy: 0.4951 - val_loss: 0.8120 - val_accuracy: 0.5012\n",
      "Epoch 35/50\n",
      "50/51 [============================>.] - ETA: 0s - loss: 0.8183 - accuracy: 0.4950\n",
      "Epoch 00035: val_accuracy did not improve from 0.50123\n",
      "51/51 [==============================] - 0s 8ms/step - loss: 0.8182 - accuracy: 0.4951 - val_loss: 0.8120 - val_accuracy: 0.5012\n",
      "Epoch 36/50\n",
      "51/51 [==============================] - ETA: 0s - loss: 0.8182 - accuracy: 0.4951\n",
      "Epoch 00036: val_accuracy did not improve from 0.50123\n",
      "51/51 [==============================] - 0s 8ms/step - loss: 0.8182 - accuracy: 0.4951 - val_loss: 0.8120 - val_accuracy: 0.5012\n",
      "Epoch 37/50\n",
      "45/51 [=========================>....] - ETA: 0s - loss: 0.8160 - accuracy: 0.4972\n",
      "Epoch 00037: val_accuracy did not improve from 0.50123\n",
      "51/51 [==============================] - 0s 8ms/step - loss: 0.8182 - accuracy: 0.4951 - val_loss: 0.8120 - val_accuracy: 0.5012\n",
      "Epoch 38/50\n",
      "48/51 [===========================>..] - ETA: 0s - loss: 0.8178 - accuracy: 0.4954\n",
      "Epoch 00038: val_accuracy did not improve from 0.50123\n",
      "51/51 [==============================] - 0s 7ms/step - loss: 0.8182 - accuracy: 0.4951 - val_loss: 0.8120 - val_accuracy: 0.5012\n",
      "Epoch 39/50\n",
      "47/51 [==========================>...] - ETA: 0s - loss: 0.8219 - accuracy: 0.4914\n",
      "Epoch 00039: val_accuracy did not improve from 0.50123\n",
      "51/51 [==============================] - 0s 8ms/step - loss: 0.8182 - accuracy: 0.4951 - val_loss: 0.8120 - val_accuracy: 0.5012\n",
      "Epoch 40/50\n",
      "45/51 [=========================>....] - ETA: 0s - loss: 0.8216 - accuracy: 0.4917\n",
      "Epoch 00040: val_accuracy did not improve from 0.50123\n",
      "51/51 [==============================] - 0s 8ms/step - loss: 0.8182 - accuracy: 0.4951 - val_loss: 0.8120 - val_accuracy: 0.5012\n",
      "Epoch 41/50\n",
      "46/51 [==========================>...] - ETA: 0s - loss: 0.8119 - accuracy: 0.5014\n",
      "Epoch 00041: val_accuracy did not improve from 0.50123\n",
      "51/51 [==============================] - 0s 7ms/step - loss: 0.8182 - accuracy: 0.4951 - val_loss: 0.8120 - val_accuracy: 0.5012\n",
      "Epoch 42/50\n",
      "46/51 [==========================>...] - ETA: 0s - loss: 0.8207 - accuracy: 0.4925\n",
      "Epoch 00042: val_accuracy did not improve from 0.50123\n",
      "51/51 [==============================] - 0s 8ms/step - loss: 0.8182 - accuracy: 0.4951 - val_loss: 0.8120 - val_accuracy: 0.5012\n",
      "Epoch 43/50\n",
      "46/51 [==========================>...] - ETA: 0s - loss: 0.8228 - accuracy: 0.4905\n",
      "Epoch 00043: val_accuracy did not improve from 0.50123\n",
      "51/51 [==============================] - 0s 8ms/step - loss: 0.8182 - accuracy: 0.4951 - val_loss: 0.8120 - val_accuracy: 0.5012\n",
      "Epoch 44/50\n",
      "45/51 [=========================>....] - ETA: 0s - loss: 0.8181 - accuracy: 0.4951\n",
      "Epoch 00044: val_accuracy did not improve from 0.50123\n",
      "51/51 [==============================] - 0s 8ms/step - loss: 0.8182 - accuracy: 0.4951 - val_loss: 0.8120 - val_accuracy: 0.5012\n",
      "Epoch 45/50\n",
      "44/51 [========================>.....] - ETA: 0s - loss: 0.8232 - accuracy: 0.4901\n",
      "Epoch 00045: val_accuracy did not improve from 0.50123\n",
      "51/51 [==============================] - 0s 8ms/step - loss: 0.8182 - accuracy: 0.4951 - val_loss: 0.8120 - val_accuracy: 0.5012\n",
      "Epoch 46/50\n",
      "47/51 [==========================>...] - ETA: 0s - loss: 0.8173 - accuracy: 0.4960\n",
      "Epoch 00046: val_accuracy did not improve from 0.50123\n",
      "51/51 [==============================] - 0s 8ms/step - loss: 0.8182 - accuracy: 0.4951 - val_loss: 0.8120 - val_accuracy: 0.5012\n",
      "Epoch 47/50\n",
      "51/51 [==============================] - ETA: 0s - loss: 0.8182 - accuracy: 0.4951\n",
      "Epoch 00047: val_accuracy did not improve from 0.50123\n",
      "51/51 [==============================] - 0s 8ms/step - loss: 0.8182 - accuracy: 0.4951 - val_loss: 0.8120 - val_accuracy: 0.5012\n",
      "Epoch 48/50\n",
      "44/51 [========================>.....] - ETA: 0s - loss: 0.8140 - accuracy: 0.4993\n",
      "Epoch 00048: val_accuracy did not improve from 0.50123\n",
      "51/51 [==============================] - 0s 8ms/step - loss: 0.8182 - accuracy: 0.4951 - val_loss: 0.8120 - val_accuracy: 0.5012\n",
      "Epoch 49/50\n",
      "45/51 [=========================>....] - ETA: 0s - loss: 0.8181 - accuracy: 0.4951\n",
      "Epoch 00049: val_accuracy did not improve from 0.50123\n",
      "51/51 [==============================] - 0s 8ms/step - loss: 0.8182 - accuracy: 0.4951 - val_loss: 0.8120 - val_accuracy: 0.5012\n",
      "Epoch 50/50\n",
      "44/51 [========================>.....] - ETA: 0s - loss: 0.8211 - accuracy: 0.4922\n",
      "Epoch 00050: val_accuracy did not improve from 0.50123\n",
      "51/51 [==============================] - 0s 8ms/step - loss: 0.8182 - accuracy: 0.4951 - val_loss: 0.8120 - val_accuracy: 0.5012\n"
     ]
    },
    {
     "data": {
      "image/png": "[encoded data removed]",
      "text/plain": [
       "<Figure size 432x288 with 1 Axes>"
      ]
     },
     "metadata": {
      "needs_background": "light"
     },
     "output_type": "display_data"
    },
    {
     "data": {
      "image/png": "[encoded data removed]",
      "text/plain": [
       "<Figure size 432x288 with 1 Axes>"
      ]
     },
     "metadata": {
      "needs_background": "light"
     },
     "output_type": "display_data"
    },
    {
     "name": "stdout",
     "output_type": "stream",
     "text": [
      "WARNING:tensorflow:11 out of the last 11 calls to <function Model.make_predict_function.<locals>.predict_function at 0x0000019C84C27670> triggered tf.function retracing. Tracing is expensive and the excessive number of tracings could be due to (1) creating @tf.function repeatedly in a loop, (2) passing tensors with different shapes, (3) passing Python objects instead of tensors. For (1), please define your @tf.function outside of the loop. For (2), @tf.function has experimental_relax_shapes=True option that relaxes argument shapes that can avoid unnecessary retracing. For (3), please refer to https://www.tensorflow.org/tutorials/customization/performance#python_or_tensor_args and https://www.tensorflow.org/api_docs/python/tf/function for  more details.\n",
      "I love this phone\n",
      "[1.]\n",
      "\n",
      "\n",
      "I hate spaghetti\n",
      "[1.]\n",
      "\n",
      "\n",
      "Everything was cold\n",
      "[1.]\n",
      "\n",
      "\n",
      "Everything was hot exactly as I wanted\n",
      "[1.]\n",
      "\n",
      "\n",
      "Everything was green\n",
      "[1.]\n",
      "\n",
      "\n",
      "the host seated us immediately\n",
      "[1.]\n",
      "\n",
      "\n",
      "they gave us free chocolate cake\n",
      "[1.]\n",
      "\n",
      "\n",
      "not sure about the wilted flowers on the table\n",
      "[1.]\n",
      "\n",
      "\n",
      "only works when I stand on tippy toes\n",
      "[1.]\n",
      "\n",
      "\n",
      "does not work when I stand on my head\n",
      "[1.]\n",
      "\n",
      "\n"
     ]
    }
   ],
   "source": [
    "num_epochs = 50\n",
    "\n",
    "model_teste = tf.keras.Sequential([\n",
    "    tf.keras.layers.Embedding(vocab_size, embedding_dim, input_length=max_length),\n",
    "    tf.keras.layers.Conv1D(num_filters, kernel_size, activation='relu'),\n",
    "    tf.keras.layers.GlobalMaxPooling1D(),\n",
    "    tf.keras.layers.Dense(6, activation='relu'),\n",
    "    tf.keras.layers.Dense(1, activation='sigmoid')\n",
    "])\n",
    "\n",
    "learning_rate = 0.0001\n",
    "model_teste.compile(loss=tf.keras.losses.BinaryCrossentropy(from_logits=True),\n",
    "                      optimizer=tf.keras.optimizers.Adam(learning_rate),metrics=['accuracy'])\n",
    "\n",
    "checkpoint1 = ModelCheckpoint(\"best_model1.hdf5\", monitor='val_accuracy', verbose=1,\n",
    "                              save_best_only=True, mode='auto', period=1,save_weights_only=False)\n",
    "\n",
    "evaluate_model(model_teste, example_reviews)"
   ]
  },
  {
   "cell_type": "code",
   "execution_count": 41,
   "metadata": {},
   "outputs": [
    {
     "name": "stdout",
     "output_type": "stream",
     "text": [
      "Epoch 1/50\n",
      "51/51 [==============================] - 1s 12ms/step - loss: 5.2644 - accuracy: 0.5012 - val_loss: 5.2589 - val_accuracy: 0.5185\n",
      "Epoch 2/50\n",
      "51/51 [==============================] - 1s 11ms/step - loss: 5.2598 - accuracy: 0.5037 - val_loss: 5.2543 - val_accuracy: 0.5136\n",
      "Epoch 3/50\n",
      "51/51 [==============================] - 1s 11ms/step - loss: 5.2552 - accuracy: 0.5056 - val_loss: 5.2498 - val_accuracy: 0.5160\n",
      "Epoch 4/50\n",
      "51/51 [==============================] - 1s 11ms/step - loss: 5.2506 - accuracy: 0.5074 - val_loss: 5.2452 - val_accuracy: 0.5160\n",
      "Epoch 5/50\n",
      "51/51 [==============================] - 1s 11ms/step - loss: 5.2461 - accuracy: 0.5068 - val_loss: 5.2406 - val_accuracy: 0.5111\n",
      "Epoch 6/50\n",
      "51/51 [==============================] - 1s 11ms/step - loss: 5.2415 - accuracy: 0.5099 - val_loss: 5.2361 - val_accuracy: 0.5062\n",
      "Epoch 7/50\n",
      "51/51 [==============================] - 1s 12ms/step - loss: 5.2369 - accuracy: 0.5130 - val_loss: 5.2315 - val_accuracy: 0.5037\n",
      "Epoch 8/50\n",
      "51/51 [==============================] - 1s 12ms/step - loss: 5.2323 - accuracy: 0.5111 - val_loss: 5.2269 - val_accuracy: 0.5086\n",
      "Epoch 9/50\n",
      "51/51 [==============================] - 1s 12ms/step - loss: 5.2278 - accuracy: 0.5117 - val_loss: 5.2224 - val_accuracy: 0.5037\n",
      "Epoch 10/50\n",
      "51/51 [==============================] - 1s 12ms/step - loss: 5.2232 - accuracy: 0.5117 - val_loss: 5.2178 - val_accuracy: 0.5086\n",
      "Epoch 11/50\n",
      "51/51 [==============================] - 1s 12ms/step - loss: 5.2186 - accuracy: 0.5142 - val_loss: 5.2133 - val_accuracy: 0.5086\n",
      "Epoch 12/50\n",
      "51/51 [==============================] - 1s 12ms/step - loss: 5.2141 - accuracy: 0.5179 - val_loss: 5.2087 - val_accuracy: 0.5111\n",
      "Epoch 13/50\n",
      "51/51 [==============================] - 1s 11ms/step - loss: 5.2095 - accuracy: 0.5161 - val_loss: 5.2042 - val_accuracy: 0.5086\n",
      "Epoch 14/50\n",
      "51/51 [==============================] - 1s 11ms/step - loss: 5.2050 - accuracy: 0.5161 - val_loss: 5.1996 - val_accuracy: 0.5111\n",
      "Epoch 15/50\n",
      "51/51 [==============================] - 1s 11ms/step - loss: 5.2004 - accuracy: 0.5136 - val_loss: 5.1951 - val_accuracy: 0.5136\n",
      "Epoch 16/50\n",
      "51/51 [==============================] - 1s 12ms/step - loss: 5.1959 - accuracy: 0.5148 - val_loss: 5.1905 - val_accuracy: 0.5136\n",
      "Epoch 17/50\n",
      "51/51 [==============================] - 1s 11ms/step - loss: 5.1913 - accuracy: 0.5167 - val_loss: 5.1860 - val_accuracy: 0.5111\n",
      "Epoch 18/50\n",
      "51/51 [==============================] - 1s 12ms/step - loss: 5.1868 - accuracy: 0.5167 - val_loss: 5.1814 - val_accuracy: 0.5136\n",
      "Epoch 19/50\n",
      "51/51 [==============================] - 1s 12ms/step - loss: 5.1823 - accuracy: 0.5198 - val_loss: 5.1769 - val_accuracy: 0.5136\n",
      "Epoch 20/50\n",
      "51/51 [==============================] - 1s 12ms/step - loss: 5.1777 - accuracy: 0.5192 - val_loss: 5.1724 - val_accuracy: 0.5136\n",
      "Epoch 21/50\n",
      "51/51 [==============================] - 1s 12ms/step - loss: 5.1732 - accuracy: 0.5198 - val_loss: 5.1678 - val_accuracy: 0.5136\n",
      "Epoch 22/50\n",
      "51/51 [==============================] - 1s 11ms/step - loss: 5.1686 - accuracy: 0.5167 - val_loss: 5.1633 - val_accuracy: 0.5136\n",
      "Epoch 23/50\n",
      "51/51 [==============================] - 1s 12ms/step - loss: 5.1641 - accuracy: 0.5179 - val_loss: 5.1588 - val_accuracy: 0.5185\n",
      "Epoch 24/50\n",
      "51/51 [==============================] - 1s 12ms/step - loss: 5.1596 - accuracy: 0.5167 - val_loss: 5.1543 - val_accuracy: 0.5136\n",
      "Epoch 25/50\n",
      "51/51 [==============================] - 1s 11ms/step - loss: 5.1551 - accuracy: 0.5185 - val_loss: 5.1498 - val_accuracy: 0.5136\n",
      "Epoch 26/50\n",
      "51/51 [==============================] - 1s 12ms/step - loss: 5.1505 - accuracy: 0.5185 - val_loss: 5.1452 - val_accuracy: 0.5136\n",
      "Epoch 27/50\n",
      "51/51 [==============================] - 1s 11ms/step - loss: 5.1460 - accuracy: 0.5185 - val_loss: 5.1407 - val_accuracy: 0.5160\n",
      "Epoch 28/50\n",
      "51/51 [==============================] - 1s 11ms/step - loss: 5.1415 - accuracy: 0.5179 - val_loss: 5.1362 - val_accuracy: 0.5160\n",
      "Epoch 29/50\n",
      "51/51 [==============================] - 1s 12ms/step - loss: 5.1370 - accuracy: 0.5179 - val_loss: 5.1317 - val_accuracy: 0.5136\n",
      "Epoch 30/50\n",
      "51/51 [==============================] - 1s 12ms/step - loss: 5.1325 - accuracy: 0.5204 - val_loss: 5.1272 - val_accuracy: 0.5136\n",
      "Epoch 31/50\n",
      "51/51 [==============================] - 1s 12ms/step - loss: 5.1280 - accuracy: 0.5198 - val_loss: 5.1227 - val_accuracy: 0.5160\n",
      "Epoch 32/50\n",
      "51/51 [==============================] - 1s 12ms/step - loss: 5.1235 - accuracy: 0.5192 - val_loss: 5.1182 - val_accuracy: 0.5160\n",
      "Epoch 33/50\n",
      "51/51 [==============================] - 1s 11ms/step - loss: 5.1190 - accuracy: 0.5198 - val_loss: 5.1137 - val_accuracy: 0.5136\n",
      "Epoch 34/50\n",
      "51/51 [==============================] - 1s 13ms/step - loss: 5.1145 - accuracy: 0.5192 - val_loss: 5.1092 - val_accuracy: 0.5136\n",
      "Epoch 35/50\n",
      "51/51 [==============================] - 1s 12ms/step - loss: 5.1100 - accuracy: 0.5210 - val_loss: 5.1047 - val_accuracy: 0.5160\n",
      "Epoch 36/50\n",
      "51/51 [==============================] - 1s 13ms/step - loss: 5.1055 - accuracy: 0.5216 - val_loss: 5.1002 - val_accuracy: 0.5160\n",
      "Epoch 37/50\n",
      "51/51 [==============================] - 1s 14ms/step - loss: 5.1010 - accuracy: 0.5210 - val_loss: 5.0957 - val_accuracy: 0.5160\n",
      "Epoch 38/50\n",
      "51/51 [==============================] - 1s 14ms/step - loss: 5.0965 - accuracy: 0.5210 - val_loss: 5.0912 - val_accuracy: 0.5160\n",
      "Epoch 39/50\n",
      "51/51 [==============================] - 1s 13ms/step - loss: 5.0920 - accuracy: 0.5198 - val_loss: 5.0868 - val_accuracy: 0.5160\n",
      "Epoch 40/50\n",
      "51/51 [==============================] - 1s 12ms/step - loss: 5.0875 - accuracy: 0.5204 - val_loss: 5.0823 - val_accuracy: 0.5160\n",
      "Epoch 41/50\n",
      "51/51 [==============================] - 1s 13ms/step - loss: 5.0830 - accuracy: 0.5192 - val_loss: 5.0778 - val_accuracy: 0.5160\n",
      "Epoch 42/50\n",
      "51/51 [==============================] - 1s 12ms/step - loss: 5.0786 - accuracy: 0.5198 - val_loss: 5.0733 - val_accuracy: 0.5160\n",
      "Epoch 43/50\n",
      "51/51 [==============================] - 1s 14ms/step - loss: 5.0741 - accuracy: 0.5192 - val_loss: 5.0688 - val_accuracy: 0.5160\n",
      "Epoch 44/50\n",
      "51/51 [==============================] - 1s 14ms/step - loss: 5.0696 - accuracy: 0.5185 - val_loss: 5.0644 - val_accuracy: 0.5160\n",
      "Epoch 45/50\n",
      "51/51 [==============================] - 1s 13ms/step - loss: 5.0651 - accuracy: 0.5185 - val_loss: 5.0599 - val_accuracy: 0.5160\n",
      "Epoch 46/50\n",
      "51/51 [==============================] - 1s 13ms/step - loss: 5.0607 - accuracy: 0.5185 - val_loss: 5.0554 - val_accuracy: 0.5160\n",
      "Epoch 47/50\n",
      "51/51 [==============================] - 1s 13ms/step - loss: 5.0562 - accuracy: 0.5185 - val_loss: 5.0510 - val_accuracy: 0.5160\n",
      "Epoch 48/50\n",
      "51/51 [==============================] - 1s 11ms/step - loss: 5.0517 - accuracy: 0.5179 - val_loss: 5.0465 - val_accuracy: 0.5136\n",
      "Epoch 49/50\n",
      "51/51 [==============================] - 1s 14ms/step - loss: 5.0473 - accuracy: 0.5161 - val_loss: 5.0421 - val_accuracy: 0.5136\n",
      "Epoch 50/50\n",
      "51/51 [==============================] - 1s 13ms/step - loss: 5.0428 - accuracy: 0.5148 - val_loss: 5.0376 - val_accuracy: 0.5136\n"
     ]
    },
    {
     "data": {
      "text/plain": [
       "<tensorflow.python.keras.callbacks.History at 0x19ce34131c0>"
      ]
     },
     "execution_count": 41,
     "metadata": {},
     "output_type": "execute_result"
    }
   ],
   "source": [
    "num_epochs = 50\n",
    "model_teste.fit(training_padded, training_labels_final, epochs=num_epochs, validation_data=(testing_padded, testing_labels_final))"
   ]
  },
  {
   "cell_type": "code",
   "execution_count": null,
   "metadata": {},
   "outputs": [],
   "source": [
    "num_epochs = 50\n",
    "evaluate_model(model_teste, example_reviews)"
   ]
  },
  {
   "cell_type": "code",
   "execution_count": null,
   "metadata": {},
   "outputs": [],
   "source": [
    "!pip install keras"
   ]
  },
  {
   "cell_type": "code",
   "execution_count": 45,
   "metadata": {},
   "outputs": [],
   "source": [
    "from sklearn.feature_extraction.text import CountVectorizer\n",
    "from sklearn.model_selection import train_test_split\n",
    "from sklearn.linear_model import LogisticRegression\n",
    "from sklearn.preprocessing import LabelEncoder\n",
    "from sklearn.preprocessing import OneHotEncoder\n",
    "from sklearn.model_selection import RandomizedSearchCV\n",
    "\n",
    "from keras.models import Sequential\n",
    "from keras import layers\n",
    "from keras.preprocessing.text import Tokenizer\n",
    "from keras.preprocessing.sequence import pad_sequences\n",
    "from keras.wrappers.scikit_learn import KerasClassifier"
   ]
  },
  {
   "cell_type": "code",
   "execution_count": 46,
   "metadata": {},
   "outputs": [],
   "source": [
    "def create_model(num_filters, kernel_size, vocab_size, embedding_dim, maxlen):\n",
    "    model = Sequential()\n",
    "    model.add(layers.Embedding(vocab_size, embedding_dim, input_length=maxlen))\n",
    "    model.add(layers.Conv1D(num_filters, kernel_size, activation='relu'))\n",
    "    model.add(layers.GlobalMaxPooling1D())\n",
    "    model.add(layers.Dense(10, activation='relu'))\n",
    "    model.add(layers.Dense(1, activation='sigmoid'))\n",
    "    learning_rate = 0.001\n",
    "    model.compile(optimizer = tf.keras.optimizers.Adam(learning_rate),\n",
    "                  loss=tf.keras.losses.BinaryCrossentropy(from_logits=True),\n",
    "                  metrics=['accuracy'])\n",
    "    return model"
   ]
  },
  {
   "cell_type": "code",
   "execution_count": null,
   "metadata": {},
   "outputs": [],
   "source": [
    "param_grid = dict(num_filters=[16, 32, 64, 128],\n",
    "                  kernel_size=[3, 5, 7, 9],\n",
    "                  vocab_size=[5000], \n",
    "                  embedding_dim=[50],\n",
    "                  maxlen=[100])"
   ]
  },
  {
   "cell_type": "code",
   "execution_count": 47,
   "metadata": {},
   "outputs": [
    {
     "name": "stdout",
     "output_type": "stream",
     "text": [
      "Fitting 4 folds for each of 5 candidates, totalling 20 fits\n"
     ]
    },
    {
     "name": "stderr",
     "output_type": "stream",
     "text": [
      "[Parallel(n_jobs=1)]: Using backend SequentialBackend with 1 concurrent workers.\n",
      "[Parallel(n_jobs=1)]: Done  20 out of  20 | elapsed: 12.5min finished\n"
     ]
    },
    {
     "name": "stdout",
     "output_type": "stream",
     "text": [
      "Running data set\n",
      "Best Accuracy : 0.8247\n",
      "{'vocab_size': 5000, 'num_filters': 32, 'maxlen': 50, 'kernel_size': 3, 'embedding_dim': 150}\n",
      "Test Accuracy : 0.8419\n",
      "\n",
      "\n"
     ]
    }
   ],
   "source": [
    "# Main settings\n",
    "epochs = 30\n",
    "embedding_dim = 150\n",
    "maxlen = 50\n",
    "\n",
    "# Run grid search for each source (yelp, amazon, imdb)\n",
    "\n",
    "sentences = reviews_df['reviews'].values\n",
    "y = reviews_df['sentiment'].values\n",
    "\n",
    "# Train-test split\n",
    "sentences_train, sentences_test, y_train, y_test = train_test_split(\n",
    "    sentences, y, test_size=0.25, random_state=1000)\n",
    "\n",
    "# Tokenize words\n",
    "tokenizer = Tokenizer(num_words=5000)\n",
    "tokenizer.fit_on_texts(sentences_train)\n",
    "X_train = tokenizer.texts_to_sequences(sentences_train)\n",
    "X_test = tokenizer.texts_to_sequences(sentences_test)\n",
    "\n",
    "# Adding 1 because of reserved 0 index\n",
    "vocab_size = len(tokenizer.word_index) + 1\n",
    "\n",
    "# Pad sequences with zeros\n",
    "X_train = pad_sequences(X_train, padding='post', maxlen=maxlen)\n",
    "X_test = pad_sequences(X_test, padding='post', maxlen=maxlen)\n",
    "\n",
    "# Parameter grid for grid search\n",
    "param_grid = dict(num_filters=[16, 32, 64],\n",
    "                  kernel_size=[3, 5, 7],\n",
    "                  vocab_size=[5000], \n",
    "                  embedding_dim=[150],\n",
    "                  maxlen=[50])\n",
    "model = KerasClassifier(build_fn=create_model,\n",
    "                        epochs=epochs, batch_size=10,\n",
    "                        verbose=False)\n",
    "grid = RandomizedSearchCV(estimator=model, param_distributions=param_grid,\n",
    "                          cv=4, verbose=1, n_iter=5)\n",
    "grid_result = grid.fit(X_train, y_train)\n",
    "\n",
    "# Evaluate testing set\n",
    "test_accuracy = grid.score(X_test, y_test)\n",
    "\n",
    "# Save and evaluate results\n",
    "#     prompt = input(f'finished {source}; write to file and proceed? [y/n]')\n",
    "#     if prompt.lower() not in {'y', 'true', 'yes'}:\n",
    "#         break\n",
    "#     with open(output_file, 'w+') as f:\n",
    "s = ('Running data set\\nBest Accuracy : '\n",
    "         '{:.4f}\\n{}\\nTest Accuracy : {:.4f}\\n\\n')\n",
    "output_string = s.format(\n",
    "    grid_result.best_score_,\n",
    "    grid_result.best_params_,\n",
    "    test_accuracy)\n",
    "print(output_string)\n"
   ]
  },
  {
   "cell_type": "code",
   "execution_count": null,
   "metadata": {},
   "outputs": [],
   "source": []
  },
  {
   "cell_type": "code",
   "execution_count": null,
   "metadata": {},
   "outputs": [],
   "source": []
  },
  {
   "cell_type": "code",
   "execution_count": null,
   "metadata": {},
   "outputs": [],
   "source": []
  },
  {
   "cell_type": "code",
   "execution_count": null,
   "metadata": {},
   "outputs": [],
   "source": []
  },
  {
   "cell_type": "code",
   "execution_count": null,
   "metadata": {},
   "outputs": [],
   "source": [
    "#Defining the final paramenters\n",
    "\n",
    "vocab_size = 5000\n",
    "embedding_dim = 100\n",
    "max_length = 50\n",
    "kernel_size = 3\n",
    "num_filters = 32\n",
    "trunc_type='post'\n",
    "padding_type='post'\n",
    "oov_tok = \"<OOV>\"\n",
    "\n",
    "\n"
   ]
  },
  {
   "cell_type": "code",
   "execution_count": null,
   "metadata": {},
   "outputs": [],
   "source": [
    "#Tokenization process\n",
    "tokenizer = Tokenizer(num_words = vocab_size, oov_token=oov_tok)\n",
    "tokenizer.fit_on_texts(training_sentences)\n",
    "word_index = tokenizer.word_index"
   ]
  },
  {
   "cell_type": "code",
   "execution_count": 83,
   "metadata": {},
   "outputs": [
    {
     "name": "stdout",
     "output_type": "stream",
     "text": [
      "WARNING:tensorflow:`period` argument is deprecated. Please use `save_freq` to specify the frequency in number of batches seen.\n",
      "Epoch 1/50\n",
      "49/51 [===========================>..] - ETA: 0s - loss: 0.7237 - accuracy: 0.5038\n",
      "Epoch 00001: val_accuracy improved from -inf to 0.49877, saving model to best_model1.hdf5\n",
      "51/51 [==============================] - 1s 11ms/step - loss: 0.7239 - accuracy: 0.5043 - val_loss: 0.7195 - val_accuracy: 0.4988\n",
      "Epoch 2/50\n",
      "45/51 [=========================>....] - ETA: 0s - loss: 0.7237 - accuracy: 0.5125\n",
      "Epoch 00002: val_accuracy did not improve from 0.49877\n",
      "51/51 [==============================] - 0s 8ms/step - loss: 0.7201 - accuracy: 0.5049 - val_loss: 0.7166 - val_accuracy: 0.4988\n",
      "Epoch 3/50\n",
      "51/51 [==============================] - ETA: 0s - loss: 0.7160 - accuracy: 0.5049\n",
      "Epoch 00003: val_accuracy did not improve from 0.49877\n",
      "51/51 [==============================] - 0s 8ms/step - loss: 0.7160 - accuracy: 0.5049 - val_loss: 0.7132 - val_accuracy: 0.4988\n",
      "Epoch 4/50\n",
      "46/51 [==========================>...] - ETA: 0s - loss: 0.7098 - accuracy: 0.5020\n",
      "Epoch 00004: val_accuracy did not improve from 0.49877\n",
      "51/51 [==============================] - 0s 8ms/step - loss: 0.7109 - accuracy: 0.5049 - val_loss: 0.7090 - val_accuracy: 0.4988\n",
      "Epoch 5/50\n",
      "46/51 [==========================>...] - ETA: 0s - loss: 0.7045 - accuracy: 0.5034\n",
      "Epoch 00005: val_accuracy did not improve from 0.49877\n",
      "51/51 [==============================] - 0s 8ms/step - loss: 0.7050 - accuracy: 0.5049 - val_loss: 0.7044 - val_accuracy: 0.4988\n",
      "Epoch 6/50\n",
      "44/51 [========================>.....] - ETA: 0s - loss: 0.7017 - accuracy: 0.5121\n",
      "Epoch 00006: val_accuracy did not improve from 0.49877\n",
      "51/51 [==============================] - 0s 8ms/step - loss: 0.6990 - accuracy: 0.5049 - val_loss: 0.6998 - val_accuracy: 0.4988\n",
      "Epoch 7/50\n",
      "47/51 [==========================>...] - ETA: 0s - loss: 0.6925 - accuracy: 0.5020\n",
      "Epoch 00007: val_accuracy did not improve from 0.49877\n",
      "51/51 [==============================] - 0s 8ms/step - loss: 0.6933 - accuracy: 0.5049 - val_loss: 0.6956 - val_accuracy: 0.4988\n",
      "Epoch 8/50\n",
      "46/51 [==========================>...] - ETA: 0s - loss: 0.6872 - accuracy: 0.5020\n",
      "Epoch 00008: val_accuracy did not improve from 0.49877\n",
      "51/51 [==============================] - 0s 8ms/step - loss: 0.6878 - accuracy: 0.5049 - val_loss: 0.6915 - val_accuracy: 0.4988\n",
      "Epoch 9/50\n",
      "47/51 [==========================>...] - ETA: 0s - loss: 0.6822 - accuracy: 0.5033\n",
      "Epoch 00009: val_accuracy did not improve from 0.49877\n",
      "51/51 [==============================] - 0s 8ms/step - loss: 0.6825 - accuracy: 0.5049 - val_loss: 0.6872 - val_accuracy: 0.4988\n",
      "Epoch 10/50\n",
      "47/51 [==========================>...] - ETA: 0s - loss: 0.6772 - accuracy: 0.5086\n",
      "Epoch 00010: val_accuracy improved from 0.49877 to 0.51111, saving model to best_model1.hdf5\n",
      "51/51 [==============================] - 0s 8ms/step - loss: 0.6768 - accuracy: 0.5074 - val_loss: 0.6823 - val_accuracy: 0.5111\n",
      "Epoch 11/50\n",
      "45/51 [=========================>....] - ETA: 0s - loss: 0.6694 - accuracy: 0.5333\n",
      "Epoch 00011: val_accuracy improved from 0.51111 to 0.56296, saving model to best_model1.hdf5\n",
      "51/51 [==============================] - 0s 8ms/step - loss: 0.6702 - accuracy: 0.5389 - val_loss: 0.6767 - val_accuracy: 0.5630\n",
      "Epoch 12/50\n",
      "46/51 [==========================>...] - ETA: 0s - loss: 0.6629 - accuracy: 0.5781\n",
      "Epoch 00012: val_accuracy improved from 0.56296 to 0.60000, saving model to best_model1.hdf5\n",
      "51/51 [==============================] - 0s 8ms/step - loss: 0.6623 - accuracy: 0.5779 - val_loss: 0.6700 - val_accuracy: 0.6000\n",
      "Epoch 13/50\n",
      "46/51 [==========================>...] - ETA: 0s - loss: 0.6524 - accuracy: 0.6128\n",
      "Epoch 00013: val_accuracy improved from 0.60000 to 0.64198, saving model to best_model1.hdf5\n",
      "51/51 [==============================] - 0s 9ms/step - loss: 0.6530 - accuracy: 0.6180 - val_loss: 0.6624 - val_accuracy: 0.6420\n",
      "Epoch 14/50\n",
      "50/51 [============================>.] - ETA: 0s - loss: 0.6426 - accuracy: 0.6700\n",
      "Epoch 00014: val_accuracy improved from 0.64198 to 0.67654, saving model to best_model1.hdf5\n",
      "51/51 [==============================] - 0s 9ms/step - loss: 0.6426 - accuracy: 0.6718 - val_loss: 0.6544 - val_accuracy: 0.6765\n",
      "Epoch 15/50\n",
      "51/51 [==============================] - ETA: 0s - loss: 0.6316 - accuracy: 0.7330\n",
      "Epoch 00015: val_accuracy improved from 0.67654 to 0.70864, saving model to best_model1.hdf5\n",
      "51/51 [==============================] - 0s 9ms/step - loss: 0.6316 - accuracy: 0.7330 - val_loss: 0.6464 - val_accuracy: 0.7086\n",
      "Epoch 16/50\n",
      "49/51 [===========================>..] - ETA: 0s - loss: 0.6212 - accuracy: 0.7953\n",
      "Epoch 00016: val_accuracy improved from 0.70864 to 0.73827, saving model to best_model1.hdf5\n",
      "51/51 [==============================] - 0s 9ms/step - loss: 0.6206 - accuracy: 0.7942 - val_loss: 0.6389 - val_accuracy: 0.7383\n",
      "Epoch 17/50\n",
      "50/51 [============================>.] - ETA: 0s - loss: 0.6095 - accuracy: 0.8338\n",
      "Epoch 00017: val_accuracy improved from 0.73827 to 0.78025, saving model to best_model1.hdf5\n",
      "51/51 [==============================] - 0s 9ms/step - loss: 0.6098 - accuracy: 0.8325 - val_loss: 0.6319 - val_accuracy: 0.7802\n",
      "Epoch 18/50\n",
      "47/51 [==========================>...] - ETA: 0s - loss: 0.5988 - accuracy: 0.8730\n",
      "Epoch 00018: val_accuracy improved from 0.78025 to 0.79753, saving model to best_model1.hdf5\n",
      "51/51 [==============================] - 0s 8ms/step - loss: 0.5996 - accuracy: 0.8733 - val_loss: 0.6255 - val_accuracy: 0.7975\n",
      "Epoch 19/50\n",
      "46/51 [==========================>...] - ETA: 0s - loss: 0.5922 - accuracy: 0.8913\n",
      "Epoch 00019: val_accuracy improved from 0.79753 to 0.80741, saving model to best_model1.hdf5\n",
      "51/51 [==============================] - 0s 8ms/step - loss: 0.5902 - accuracy: 0.8906 - val_loss: 0.6200 - val_accuracy: 0.8074\n",
      "Epoch 20/50\n",
      "46/51 [==========================>...] - ETA: 0s - loss: 0.5817 - accuracy: 0.9137\n",
      "Epoch 00020: val_accuracy improved from 0.80741 to 0.82963, saving model to best_model1.hdf5\n",
      "51/51 [==============================] - 0s 8ms/step - loss: 0.5813 - accuracy: 0.9110 - val_loss: 0.6150 - val_accuracy: 0.8296\n",
      "Epoch 21/50\n",
      "46/51 [==========================>...] - ETA: 0s - loss: 0.5736 - accuracy: 0.9246\n",
      "Epoch 00021: val_accuracy improved from 0.82963 to 0.83210, saving model to best_model1.hdf5\n",
      "51/51 [==============================] - 0s 8ms/step - loss: 0.5729 - accuracy: 0.9283 - val_loss: 0.6108 - val_accuracy: 0.8321\n",
      "Epoch 22/50\n",
      "51/51 [==============================] - ETA: 0s - loss: 0.5657 - accuracy: 0.9357\n",
      "Epoch 00022: val_accuracy improved from 0.83210 to 0.83951, saving model to best_model1.hdf5\n",
      "51/51 [==============================] - 0s 9ms/step - loss: 0.5657 - accuracy: 0.9357 - val_loss: 0.6072 - val_accuracy: 0.8395\n",
      "Epoch 23/50\n",
      "47/51 [==========================>...] - ETA: 0s - loss: 0.5600 - accuracy: 0.9448\n",
      "Epoch 00023: val_accuracy improved from 0.83951 to 0.85185, saving model to best_model1.hdf5\n",
      "51/51 [==============================] - 0s 8ms/step - loss: 0.5594 - accuracy: 0.9462 - val_loss: 0.6041 - val_accuracy: 0.8519\n",
      "Epoch 24/50\n",
      "47/51 [==========================>...] - ETA: 0s - loss: 0.5534 - accuracy: 0.9535\n",
      "Epoch 00024: val_accuracy improved from 0.85185 to 0.85432, saving model to best_model1.hdf5\n",
      "51/51 [==============================] - 0s 8ms/step - loss: 0.5539 - accuracy: 0.9530 - val_loss: 0.6016 - val_accuracy: 0.8543\n",
      "Epoch 25/50\n",
      "49/51 [===========================>..] - ETA: 0s - loss: 0.5487 - accuracy: 0.9592\n",
      "Epoch 00025: val_accuracy did not improve from 0.85432\n",
      "51/51 [==============================] - 0s 8ms/step - loss: 0.5491 - accuracy: 0.9586 - val_loss: 0.5994 - val_accuracy: 0.8494\n",
      "Epoch 26/50\n",
      "46/51 [==========================>...] - ETA: 0s - loss: 0.5466 - accuracy: 0.9586\n",
      "Epoch 00026: val_accuracy did not improve from 0.85432\n",
      "51/51 [==============================] - 0s 8ms/step - loss: 0.5449 - accuracy: 0.9598 - val_loss: 0.5976 - val_accuracy: 0.8395\n",
      "Epoch 27/50\n",
      "46/51 [==========================>...] - ETA: 0s - loss: 0.5425 - accuracy: 0.9660\n",
      "Epoch 00027: val_accuracy did not improve from 0.85432\n",
      "51/51 [==============================] - 0s 8ms/step - loss: 0.5412 - accuracy: 0.9635 - val_loss: 0.5962 - val_accuracy: 0.8420\n",
      "Epoch 28/50\n",
      "45/51 [=========================>....] - ETA: 0s - loss: 0.5383 - accuracy: 0.9674\n",
      "Epoch 00028: val_accuracy did not improve from 0.85432\n",
      "51/51 [==============================] - 0s 8ms/step - loss: 0.5380 - accuracy: 0.9685 - val_loss: 0.5948 - val_accuracy: 0.8395\n",
      "Epoch 29/50\n",
      "45/51 [=========================>....] - ETA: 0s - loss: 0.5353 - accuracy: 0.9708\n",
      "Epoch 00029: val_accuracy did not improve from 0.85432\n",
      "51/51 [==============================] - 0s 8ms/step - loss: 0.5351 - accuracy: 0.9697 - val_loss: 0.5939 - val_accuracy: 0.8370\n",
      "Epoch 30/50\n",
      "51/51 [==============================] - ETA: 0s - loss: 0.5326 - accuracy: 0.9710\n",
      "Epoch 00030: val_accuracy did not improve from 0.85432\n",
      "51/51 [==============================] - 0s 8ms/step - loss: 0.5326 - accuracy: 0.9710 - val_loss: 0.5935 - val_accuracy: 0.8444\n",
      "Epoch 31/50\n",
      "48/51 [===========================>..] - ETA: 0s - loss: 0.5302 - accuracy: 0.9733\n",
      "Epoch 00031: val_accuracy did not improve from 0.85432\n",
      "51/51 [==============================] - 0s 8ms/step - loss: 0.5303 - accuracy: 0.9747 - val_loss: 0.5928 - val_accuracy: 0.8420\n",
      "Epoch 32/50\n",
      "46/51 [==========================>...] - ETA: 0s - loss: 0.5292 - accuracy: 0.9742\n",
      "Epoch 00032: val_accuracy did not improve from 0.85432\n",
      "51/51 [==============================] - 0s 8ms/step - loss: 0.5282 - accuracy: 0.9759 - val_loss: 0.5920 - val_accuracy: 0.8444\n",
      "Epoch 33/50\n",
      "46/51 [==========================>...] - ETA: 0s - loss: 0.5269 - accuracy: 0.9762\n",
      "Epoch 00033: val_accuracy did not improve from 0.85432\n",
      "51/51 [==============================] - 0s 8ms/step - loss: 0.5264 - accuracy: 0.9778 - val_loss: 0.5918 - val_accuracy: 0.8469\n",
      "Epoch 34/50\n",
      "45/51 [=========================>....] - ETA: 0s - loss: 0.5252 - accuracy: 0.9799\n",
      "Epoch 00034: val_accuracy did not improve from 0.85432\n",
      "51/51 [==============================] - 0s 8ms/step - loss: 0.5247 - accuracy: 0.9790 - val_loss: 0.5916 - val_accuracy: 0.8469\n",
      "Epoch 35/50\n",
      "47/51 [==========================>...] - ETA: 0s - loss: 0.5249 - accuracy: 0.9820\n",
      "Epoch 00035: val_accuracy did not improve from 0.85432\n",
      "51/51 [==============================] - 0s 8ms/step - loss: 0.5232 - accuracy: 0.9815 - val_loss: 0.5906 - val_accuracy: 0.8444\n",
      "Epoch 36/50\n",
      "47/51 [==========================>...] - ETA: 0s - loss: 0.5198 - accuracy: 0.9854\n",
      "Epoch 00036: val_accuracy did not improve from 0.85432\n",
      "51/51 [==============================] - 0s 8ms/step - loss: 0.5218 - accuracy: 0.9839 - val_loss: 0.5902 - val_accuracy: 0.8420\n",
      "Epoch 37/50\n",
      "48/51 [===========================>..] - ETA: 0s - loss: 0.5187 - accuracy: 0.9870\n",
      "Epoch 00037: val_accuracy did not improve from 0.85432\n",
      "51/51 [==============================] - 0s 8ms/step - loss: 0.5206 - accuracy: 0.9852 - val_loss: 0.5902 - val_accuracy: 0.8420\n",
      "Epoch 38/50\n",
      "45/51 [=========================>....] - ETA: 0s - loss: 0.5200 - accuracy: 0.9875\n",
      "Epoch 00038: val_accuracy did not improve from 0.85432\n",
      "51/51 [==============================] - 0s 8ms/step - loss: 0.5195 - accuracy: 0.9864 - val_loss: 0.5900 - val_accuracy: 0.8444\n",
      "Epoch 39/50\n",
      "45/51 [=========================>....] - ETA: 0s - loss: 0.5155 - accuracy: 0.9854\n",
      "Epoch 00039: val_accuracy did not improve from 0.85432\n",
      "51/51 [==============================] - 0s 8ms/step - loss: 0.5185 - accuracy: 0.9864 - val_loss: 0.5898 - val_accuracy: 0.8370\n",
      "Epoch 40/50\n",
      "45/51 [=========================>....] - ETA: 0s - loss: 0.5172 - accuracy: 0.9889\n",
      "Epoch 00040: val_accuracy did not improve from 0.85432\n",
      "51/51 [==============================] - 0s 8ms/step - loss: 0.5176 - accuracy: 0.9876 - val_loss: 0.5897 - val_accuracy: 0.8370\n",
      "Epoch 41/50\n",
      "46/51 [==========================>...] - ETA: 0s - loss: 0.5179 - accuracy: 0.9885\n",
      "Epoch 00041: val_accuracy did not improve from 0.85432\n",
      "51/51 [==============================] - 0s 8ms/step - loss: 0.5168 - accuracy: 0.9889 - val_loss: 0.5898 - val_accuracy: 0.8395\n",
      "Epoch 42/50\n",
      "46/51 [==========================>...] - ETA: 0s - loss: 0.5164 - accuracy: 0.9891\n",
      "Epoch 00042: val_accuracy did not improve from 0.85432\n",
      "51/51 [==============================] - 0s 8ms/step - loss: 0.5160 - accuracy: 0.9895 - val_loss: 0.5896 - val_accuracy: 0.8370\n",
      "Epoch 43/50\n",
      "47/51 [==========================>...] - ETA: 0s - loss: 0.5127 - accuracy: 0.9920\n",
      "Epoch 00043: val_accuracy did not improve from 0.85432\n",
      "51/51 [==============================] - 0s 8ms/step - loss: 0.5154 - accuracy: 0.9901 - val_loss: 0.5894 - val_accuracy: 0.8370\n",
      "Epoch 44/50\n",
      "44/51 [========================>.....] - ETA: 0s - loss: 0.5118 - accuracy: 0.9929\n",
      "Epoch 00044: val_accuracy did not improve from 0.85432\n",
      "51/51 [==============================] - 0s 8ms/step - loss: 0.5148 - accuracy: 0.9907 - val_loss: 0.5893 - val_accuracy: 0.8346\n",
      "Epoch 45/50\n",
      "47/51 [==========================>...] - ETA: 0s - loss: 0.5165 - accuracy: 0.9907\n",
      "Epoch 00045: val_accuracy did not improve from 0.85432\n",
      "51/51 [==============================] - 0s 8ms/step - loss: 0.5142 - accuracy: 0.9907 - val_loss: 0.5890 - val_accuracy: 0.8321\n",
      "Epoch 46/50\n",
      "50/51 [============================>.] - ETA: 0s - loss: 0.5142 - accuracy: 0.9912\n",
      "Epoch 00046: val_accuracy did not improve from 0.85432\n",
      "51/51 [==============================] - 0s 8ms/step - loss: 0.5137 - accuracy: 0.9913 - val_loss: 0.5892 - val_accuracy: 0.8321\n",
      "Epoch 47/50\n",
      "50/51 [============================>.] - ETA: 0s - loss: 0.5129 - accuracy: 0.9912\n",
      "Epoch 00047: val_accuracy did not improve from 0.85432\n",
      "51/51 [==============================] - 0s 8ms/step - loss: 0.5133 - accuracy: 0.9913 - val_loss: 0.5893 - val_accuracy: 0.8321\n",
      "Epoch 48/50\n",
      "46/51 [==========================>...] - ETA: 0s - loss: 0.5118 - accuracy: 0.9918\n",
      "Epoch 00048: val_accuracy did not improve from 0.85432\n",
      "51/51 [==============================] - 0s 8ms/step - loss: 0.5129 - accuracy: 0.9913 - val_loss: 0.5892 - val_accuracy: 0.8321\n",
      "Epoch 49/50\n",
      "46/51 [==========================>...] - ETA: 0s - loss: 0.5138 - accuracy: 0.9912\n",
      "Epoch 00049: val_accuracy did not improve from 0.85432\n",
      "51/51 [==============================] - 0s 8ms/step - loss: 0.5125 - accuracy: 0.9913 - val_loss: 0.5893 - val_accuracy: 0.8296\n",
      "Epoch 50/50\n",
      "46/51 [==========================>...] - ETA: 0s - loss: 0.5110 - accuracy: 0.9925\n",
      "Epoch 00050: val_accuracy did not improve from 0.85432\n",
      "51/51 [==============================] - 0s 8ms/step - loss: 0.5122 - accuracy: 0.9913 - val_loss: 0.5892 - val_accuracy: 0.8296\n"
     ]
    },
    {
     "data": {
      "text/plain": [
       "<tensorflow.python.keras.callbacks.History at 0x19c8522ca90>"
      ]
     },
     "execution_count": 83,
     "metadata": {},
     "output_type": "execute_result"
    }
   ],
   "source": [
    "num_epochs = 50\n",
    "\n",
    "model_final = tf.keras.Sequential([\n",
    "    tf.keras.layers.Embedding(vocab_size, embedding_dim, input_length=max_length),\n",
    "    tf.keras.layers.Conv1D(num_filters, kernel_size, activation='relu'),\n",
    "    tf.keras.layers.GlobalMaxPooling1D(),\n",
    "    tf.keras.layers.Dense(6, activation='relu'),\n",
    "    tf.keras.layers.Dense(1, activation='sigmoid')\n",
    "])\n",
    "\n",
    "learning_rate = 0.0001\n",
    "model_final.compile(loss=tf.keras.losses.BinaryCrossentropy(from_logits=True),\n",
    "                      optimizer=tf.keras.optimizers.Adam(learning_rate),metrics=['accuracy'])\n",
    "\n",
    "checkpoint1 = ModelCheckpoint(\"best_model1.hdf5\", monitor='val_accuracy', verbose=1,\n",
    "                              save_best_only=True, mode='auto', period=1,save_weights_only=False)\n",
    "\n",
    "model_final.fit(training_padded, training_labels_final, epochs=num_epochs, \n",
    "                      validation_data=(testing_padded, testing_labels_final), callbacks = [checkpoint1])"
   ]
  },
  {
   "cell_type": "code",
   "execution_count": 84,
   "metadata": {},
   "outputs": [
    {
     "name": "stdout",
     "output_type": "stream",
     "text": [
      "WARNING:tensorflow:From C:\\ProgramData\\Anaconda3\\lib\\site-packages\\tensorflow\\python\\training\\tracking\\tracking.py:111: Model.state_updates (from tensorflow.python.keras.engine.training) is deprecated and will be removed in a future version.\n",
      "Instructions for updating:\n",
      "This property should not be used in TensorFlow 2.0, as updates are applied automatically.\n",
      "WARNING:tensorflow:From C:\\ProgramData\\Anaconda3\\lib\\site-packages\\tensorflow\\python\\training\\tracking\\tracking.py:111: Layer.updates (from tensorflow.python.keras.engine.base_layer) is deprecated and will be removed in a future version.\n",
      "Instructions for updating:\n",
      "This property should not be used in TensorFlow 2.0, as updates are applied automatically.\n",
      "INFO:tensorflow:Assets written to: final_nlp_model\\assets\n"
     ]
    }
   ],
   "source": [
    "model_final.save('final_nlp_model')"
   ]
  },
  {
   "cell_type": "code",
   "execution_count": null,
   "metadata": {},
   "outputs": [],
   "source": []
  },
  {
   "cell_type": "code",
   "execution_count": null,
   "metadata": {},
   "outputs": [],
   "source": [
    "#Function to fit the reviews in the model\n",
    "def fit_model(model, sentences) :\n",
    "    model.summary()\n",
    "    history = model.fit(training_padded, training_labels_final, epochs=num_epochs, \n",
    "                      validation_data=(testing_padded, testing_labels_final), callbacks = [checkpoint1])\n",
    "    \n",
    "    return history\n",
    "\n",
    "#Function to plot the charts\n",
    "def plot_results(history):\n",
    "    plot_graphs(history, \"accuracy\")\n",
    "    plot_graphs(history, \"loss\")\n",
    "\n",
    "def evaluate_model(model, sentences):\n",
    "    history = fit_model(model, sentences)\n",
    "    plot_results(history)\n",
    "    predict_review(model, sentences)"
   ]
  },
  {
   "cell_type": "code",
   "execution_count": null,
   "metadata": {},
   "outputs": [],
   "source": []
  },
  {
   "cell_type": "code",
   "execution_count": null,
   "metadata": {},
   "outputs": [],
   "source": []
  }
 ],
 "metadata": {
  "kernelspec": {
   "display_name": "Python 3",
   "language": "python",
   "name": "python3"
  },
  "language_info": {
   "codemirror_mode": {
    "name": "ipython",
    "version": 3
   },
   "file_extension": ".py",
   "mimetype": "text/x-python",
   "name": "python",
   "nbconvert_exporter": "python",
   "pygments_lexer": "ipython3",
   "version": "3.8.3"
  }
 },
 "nbformat": 4,
 "nbformat_minor": 4
}
